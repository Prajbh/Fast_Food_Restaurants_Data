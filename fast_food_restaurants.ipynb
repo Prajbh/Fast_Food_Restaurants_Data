{
 "cells": [
  {
   "cell_type": "markdown",
   "metadata": {},
   "source": [
    "# Analysis on Fast food Restaurants in Maryland\n",
    "\n"
   ]
  },
  {
   "cell_type": "markdown",
   "metadata": {},
   "source": [
    "## Overview:\n",
    "\n",
    "#### We selected the topic Fast Food Restaurants. It was interesting to find out that different age groups actually have different preference for fast food. The number of restaurants in Maryland have increased in different areas over the years. It is also interesting to find that the customers actually have their preferences with which fast food restaurant they would like to visit. The following are the goals we have accomplishedin the same order: <br />\n",
    "1) Comparitive study of people who prefer different restaurants in 2017 and 2018 based on different age groups <br />\n",
    "2) Predict the restaurant preference of people in 2019 using a regression model(ARIMA) <br />\n",
    "3) Visualization of the locations of fast food restaurants across Maryland <br />\n",
    "4) Visualize the difference in the number of restaurants before 2019 and in 2019. </br>"
   ]
  },
  {
   "cell_type": "markdown",
   "metadata": {},
   "source": [
    "### Datasets:\n",
    "\n",
    "####  The data sets used for this project are: \n",
    "<b>People who visited restaurants by Age(2017,2018) - (Company, AgeGroup, Year, Share of responders)</b> - This dataset includes the data for age groups 18-29,30-59, 60-79 that have visited fast food restaurants in the year 2017 and 2018. It includes the respondents in percentage for different fast food restaurants.\n",
    "\n",
    "<b>Sales data of restaurants(2017,2018) - (RestaurantName, Sales(Billion usd)</b> - This dataset includes the total sales of some famous fast food restaurants.\n",
    "\n",
    "<b>People who visited the restaurants in 2017 - (RestaurantName, No. of people(in %)</b> - This dataset includes the total number of people who visited fast food restaurants in 2017.\n",
    "\n",
    "<b>Fast Food Restaurants in USA - (Restaurant Name, LocationDetails(lattitude,longitude,postal code))</b> - includes the addresses of vaious restaurants. This also includes 2 more datasets that have information about the Restaurants in 2018 and 2019 seperately.\n"
   ]
  },
  {
   "cell_type": "code",
   "execution_count": 114,
   "metadata": {},
   "outputs": [],
   "source": [
    "import pandas as pd\n",
    "import warnings\n",
    "warnings.filterwarnings('ignore')"
   ]
  },
  {
   "cell_type": "code",
   "execution_count": 31,
   "metadata": {},
   "outputs": [],
   "source": [
    "dfsales = pd.read_csv(\"ding-chain-restaurants-in-the-us-in.csv\")"
   ]
  },
  {
   "cell_type": "code",
   "execution_count": 3,
   "metadata": {},
   "outputs": [],
   "source": [
    "df17 = pd.read_csv(\"t-restaurants-in-the-us-2017-by-age.csv\")"
   ]
  },
  {
   "cell_type": "code",
   "execution_count": 4,
   "metadata": {},
   "outputs": [],
   "source": [
    "df18 = pd.read_csv(\"t-restaurants-in-the-us-2018-by-age.csv\")"
   ]
  },
  {
   "cell_type": "code",
   "execution_count": 10,
   "metadata": {},
   "outputs": [],
   "source": [
    "dfvisited = pd.read_csv(\"visited-fast-food-restaurants-2017.csv\")"
   ]
  },
  {
   "cell_type": "code",
   "execution_count": 11,
   "metadata": {},
   "outputs": [],
   "source": [
    "dfrests = pd.read_csv(\"datafiniti_fast_food_restaurants.csv\")"
   ]
  },
  {
   "cell_type": "code",
   "execution_count": 12,
   "metadata": {},
   "outputs": [],
   "source": [
    "dfrests10 = pd.read_csv(\"datafiniti_fast_food_restaurants_jun19.csv\")"
   ]
  },
  {
   "cell_type": "code",
   "execution_count": 13,
   "metadata": {
    "scrolled": true
   },
   "outputs": [],
   "source": [
    "dfrestaurant = pd.read_csv(\"fastfoodrestaurants.csv\")"
   ]
  },
  {
   "cell_type": "markdown",
   "metadata": {},
   "source": [
    "<b> Cleaning the data"
   ]
  },
  {
   "cell_type": "markdown",
   "metadata": {},
   "source": [
    "In order to perform the comparative analysis , these datasets have been filtered first.\n",
    "\n",
    "Delete unnecessary columns for example : ‘Country’ column has only a single value US, which is redundant.\n",
    "The dataset includes data for other restaurants as well. Remove the data for other restaurants in both datasets 2017 as well as 2018\n",
    "The age groups presented in this datasets are '18 - 29 years', '30 - 49 years', '50 - 64 years', although these were inconsistent across all the datasets having redundant spaces. Remove spaces and redundant characters. "
   ]
  },
  {
   "cell_type": "code",
   "execution_count": 19,
   "metadata": {},
   "outputs": [
    {
     "data": {
      "text/plain": [
       "array(['18 - 29 years', '30 - 49 years', '50 - 64 years', '18-29 years',\n",
       "       '30-49 years', '50-64 years'], dtype=object)"
      ]
     },
     "execution_count": 19,
     "metadata": {},
     "output_type": "execute_result"
    }
   ],
   "source": [
    "df18['Age'].unique()"
   ]
  },
  {
   "cell_type": "code",
   "execution_count": 20,
   "metadata": {},
   "outputs": [],
   "source": [
    "df18['Age'] = df17['Age'].replace(['18 - 29 years', '30 - 49 years', '50 - 64 years'], ['18-29 years', '30-49 years', '50-64 years'])"
   ]
  },
  {
   "cell_type": "code",
   "execution_count": 21,
   "metadata": {},
   "outputs": [
    {
     "data": {
      "text/plain": [
       "array(['18-29 years', '30-49 years', '50-64 years'], dtype=object)"
      ]
     },
     "execution_count": 21,
     "metadata": {},
     "output_type": "execute_result"
    }
   ],
   "source": [
    "df18['Age'].unique()"
   ]
  },
  {
   "cell_type": "code",
   "execution_count": 22,
   "metadata": {},
   "outputs": [
    {
     "data": {
      "text/plain": [
       "array(['18-29 years', '30-49 years', '50-64 years'], dtype=object)"
      ]
     },
     "execution_count": 22,
     "metadata": {},
     "output_type": "execute_result"
    }
   ],
   "source": [
    "df17['Age'].unique()"
   ]
  },
  {
   "cell_type": "code",
   "execution_count": 24,
   "metadata": {},
   "outputs": [],
   "source": [
    "df17['Age'] = df17['Age'].replace(['18 - 29 years', '30 - 49 years', '50 - 64 years'], ['18-29 years', '30-49 years', '50-64 years'])"
   ]
  },
  {
   "cell_type": "code",
   "execution_count": 25,
   "metadata": {},
   "outputs": [
    {
     "data": {
      "text/plain": [
       "array(['18-29 years', '30-49 years', '50-64 years'], dtype=object)"
      ]
     },
     "execution_count": 25,
     "metadata": {},
     "output_type": "execute_result"
    }
   ],
   "source": [
    "df17['Age'].unique()"
   ]
  },
  {
   "cell_type": "code",
   "execution_count": 34,
   "metadata": {},
   "outputs": [
    {
     "data": {
      "text/html": [
       "<div>\n",
       "<style scoped>\n",
       "    .dataframe tbody tr th:only-of-type {\n",
       "        vertical-align: middle;\n",
       "    }\n",
       "\n",
       "    .dataframe tbody tr th {\n",
       "        vertical-align: top;\n",
       "    }\n",
       "\n",
       "    .dataframe thead th {\n",
       "        text-align: right;\n",
       "    }\n",
       "</style>\n",
       "<table border=\"1\" class=\"dataframe\">\n",
       "  <thead>\n",
       "    <tr style=\"text-align: right;\">\n",
       "      <th></th>\n",
       "      <th>Company</th>\n",
       "      <th>Age</th>\n",
       "      <th>Share of respondents</th>\n",
       "      <th>Year</th>\n",
       "    </tr>\n",
       "  </thead>\n",
       "  <tbody>\n",
       "    <tr>\n",
       "      <td>0</td>\n",
       "      <td>Burger King</td>\n",
       "      <td>18-29 years</td>\n",
       "      <td>78.34</td>\n",
       "      <td>2017</td>\n",
       "    </tr>\n",
       "    <tr>\n",
       "      <td>1</td>\n",
       "      <td>Burger King</td>\n",
       "      <td>30-49 years</td>\n",
       "      <td>82.89</td>\n",
       "      <td>2017</td>\n",
       "    </tr>\n",
       "    <tr>\n",
       "      <td>2</td>\n",
       "      <td>Burger King</td>\n",
       "      <td>50-64 years</td>\n",
       "      <td>85.43</td>\n",
       "      <td>2017</td>\n",
       "    </tr>\n",
       "    <tr>\n",
       "      <td>3</td>\n",
       "      <td>Dunkin' Donuts</td>\n",
       "      <td>18-29 years</td>\n",
       "      <td>57.73</td>\n",
       "      <td>2017</td>\n",
       "    </tr>\n",
       "    <tr>\n",
       "      <td>4</td>\n",
       "      <td>Dunkin' Donuts</td>\n",
       "      <td>30-49 years</td>\n",
       "      <td>49.72</td>\n",
       "      <td>2017</td>\n",
       "    </tr>\n",
       "    <tr>\n",
       "      <td>5</td>\n",
       "      <td>Dunkin' Donuts</td>\n",
       "      <td>50-64 years</td>\n",
       "      <td>46.29</td>\n",
       "      <td>2017</td>\n",
       "    </tr>\n",
       "    <tr>\n",
       "      <td>6</td>\n",
       "      <td>Arby's</td>\n",
       "      <td>18-29 years</td>\n",
       "      <td>65.98</td>\n",
       "      <td>2017</td>\n",
       "    </tr>\n",
       "    <tr>\n",
       "      <td>7</td>\n",
       "      <td>Arby's</td>\n",
       "      <td>30-49 years</td>\n",
       "      <td>68.90</td>\n",
       "      <td>2017</td>\n",
       "    </tr>\n",
       "    <tr>\n",
       "      <td>8</td>\n",
       "      <td>Arby's</td>\n",
       "      <td>50-64 years</td>\n",
       "      <td>71.92</td>\n",
       "      <td>2017</td>\n",
       "    </tr>\n",
       "    <tr>\n",
       "      <td>9</td>\n",
       "      <td>KFC</td>\n",
       "      <td>18-29 years</td>\n",
       "      <td>82.11</td>\n",
       "      <td>2017</td>\n",
       "    </tr>\n",
       "  </tbody>\n",
       "</table>\n",
       "</div>"
      ],
      "text/plain": [
       "          Company          Age  Share of respondents  Year\n",
       "0     Burger King  18-29 years                 78.34  2017\n",
       "1     Burger King  30-49 years                 82.89  2017\n",
       "2     Burger King  50-64 years                 85.43  2017\n",
       "3  Dunkin' Donuts  18-29 years                 57.73  2017\n",
       "4  Dunkin' Donuts  30-49 years                 49.72  2017\n",
       "5  Dunkin' Donuts  50-64 years                 46.29  2017\n",
       "6          Arby's  18-29 years                 65.98  2017\n",
       "7          Arby's  30-49 years                 68.90  2017\n",
       "8          Arby's  50-64 years                 71.92  2017\n",
       "9             KFC  18-29 years                 82.11  2017"
      ]
     },
     "execution_count": 34,
     "metadata": {},
     "output_type": "execute_result"
    }
   ],
   "source": [
    "df17=df17.drop(columns=['Country'])\n",
    "df18=df18.drop(columns=['Country'])\n",
    "df17.head(10)"
   ]
  },
  {
   "cell_type": "code",
   "execution_count": 150,
   "metadata": {},
   "outputs": [],
   "source": [
    "dfrestaurant = dfrestaurant.drop(['websites', 'keys'], axis =1)"
   ]
  },
  {
   "cell_type": "markdown",
   "metadata": {},
   "source": [
    "<h3><b>Visualize the data"
   ]
  },
  {
   "cell_type": "code",
   "execution_count": 26,
   "metadata": {},
   "outputs": [],
   "source": [
    "%matplotlib inline\n",
    "import matplotlib\n",
    "import matplotlib.pyplot as plt"
   ]
  },
  {
   "cell_type": "code",
   "execution_count": 30,
   "metadata": {},
   "outputs": [
    {
     "data": {
      "image/png": "[encoded data removed]",
      "text/plain": [
       "<Figure size 432x288 with 1 Axes>"
      ]
     },
     "metadata": {
      "needs_background": "light"
     },
     "output_type": "display_data"
    },
    {
     "data": {
      "image/png": "[encoded data removed]",
      "text/plain": [
       "<Figure size 432x288 with 1 Axes>"
      ]
     },
     "metadata": {
      "needs_background": "light"
     },
     "output_type": "display_data"
    }
   ],
   "source": [
    "df17['Share of respondents'].plot.hist( 20,\n",
    "         density=True,\n",
    "         histtype='bar',\n",
    "         facecolor='b',\n",
    "         alpha=0.5)\n",
    "\n",
    "plt.show()\n",
    "\n",
    "df18['Share of respondents'].plot.hist(20,\n",
    "         density=True,\n",
    "         histtype='bar',\n",
    "         facecolor='b',\n",
    "         alpha=0.5)\n",
    "\n",
    "plt.show()"
   ]
  },
  {
   "cell_type": "markdown",
   "metadata": {},
   "source": [
    "The above graphs just displays the share of respondents in 2017 and 2018 for different age groups."
   ]
  },
  {
   "cell_type": "code",
   "execution_count": 32,
   "metadata": {},
   "outputs": [
    {
     "data": {
      "image/png": "[encoded data removed]",
      "text/plain": [
       "<Figure size 3240x432 with 1 Axes>"
      ]
     },
     "metadata": {
      "needs_background": "light"
     },
     "output_type": "display_data"
    }
   ],
   "source": [
    "import matplotlib.pyplot as plt\n",
    "\n",
    "plt.figure(figsize=(45, 6))\n",
    "plt.subplot(131)\n",
    "plt.bar(dfsales['Company'], dfsales['Sales in billion U.S. dollars'],facecolor='olive')\n",
    "plt.ylabel('Sales in billion')\n",
    "plt.show()"
   ]
  },
  {
   "cell_type": "markdown",
   "metadata": {},
   "source": [
    "#### The above graphs displays the total sales of the various fast food restaurants. As we can observe McDonald's and Starbuck's seems to be the most popular restaurants."
   ]
  },
  {
   "cell_type": "code",
   "execution_count": 35,
   "metadata": {},
   "outputs": [],
   "source": [
    "matplotlib.style.use('ggplot')"
   ]
  },
  {
   "cell_type": "code",
   "execution_count": 37,
   "metadata": {},
   "outputs": [
    {
     "data": {
      "text/plain": [
       "Index(['Company', 'Age', 'Share of respondents', 'Year'], dtype='object')"
      ]
     },
     "execution_count": 37,
     "metadata": {},
     "output_type": "execute_result"
    }
   ],
   "source": [
    "df17.columns"
   ]
  },
  {
   "cell_type": "code",
   "execution_count": 38,
   "metadata": {},
   "outputs": [],
   "source": [
    "s = df17['Age']"
   ]
  },
  {
   "cell_type": "code",
   "execution_count": 40,
   "metadata": {},
   "outputs": [],
   "source": [
    "classmap = {}\n",
    "for idx, name in enumerate(df17['Age'].unique()):\n",
    "    classmap[name] = float(idx)\n",
    "df17['Label'] = df17['Age'].apply(lambda x: classmap[x])"
   ]
  },
  {
   "cell_type": "markdown",
   "metadata": {},
   "source": [
    "#### There were two choices we could this of. First was to take the average of the age range or remove the hiphen from between the ages. In both cases the values of the age range remain same and don't overrun other values."
   ]
  },
  {
   "cell_type": "code",
   "execution_count": 41,
   "metadata": {},
   "outputs": [],
   "source": [
    "df17['Age'] = df17['Age'].map(lambda x: x.lstrip('+-').rstrip('years'))"
   ]
  },
  {
   "cell_type": "code",
   "execution_count": 42,
   "metadata": {},
   "outputs": [],
   "source": [
    "df17['Age'].replace(regex=True,inplace=True,to_replace=r'\\D',value=r'')"
   ]
  },
  {
   "cell_type": "code",
   "execution_count": 43,
   "metadata": {},
   "outputs": [
    {
     "data": {
      "text/plain": [
       "Company                  object\n",
       "Age                      object\n",
       "Share of respondents    float64\n",
       "Year                      int64\n",
       "Label                   float64\n",
       "dtype: object"
      ]
     },
     "execution_count": 43,
     "metadata": {},
     "output_type": "execute_result"
    }
   ],
   "source": [
    "df17.dtypes"
   ]
  },
  {
   "cell_type": "code",
   "execution_count": 44,
   "metadata": {},
   "outputs": [],
   "source": [
    "df17['Age'] = df17['Age'].apply(pd.to_numeric, errors='coerce')"
   ]
  },
  {
   "cell_type": "code",
   "execution_count": 45,
   "metadata": {},
   "outputs": [],
   "source": [
    "df18['Age'].replace(regex=True,inplace=True,to_replace=r'\\D',value=r'')"
   ]
  },
  {
   "cell_type": "code",
   "execution_count": 47,
   "metadata": {},
   "outputs": [],
   "source": [
    "df18['Age'] = df18['Age'].apply(pd.to_numeric, errors='coerce')"
   ]
  },
  {
   "cell_type": "code",
   "execution_count": 48,
   "metadata": {},
   "outputs": [
    {
     "data": {
      "text/plain": [
       "<matplotlib.axes._subplots.AxesSubplot at 0x16747cf3608>"
      ]
     },
     "execution_count": 48,
     "metadata": {},
     "output_type": "execute_result"
    },
    {
     "data": {
      "image/png": "[encoded data removed]",
      "text/plain": [
       "<Figure size 432x288 with 1 Axes>"
      ]
     },
     "metadata": {},
     "output_type": "display_data"
    },
    {
     "data": {
      "image/png": "[encoded data removed]",
      "text/plain": [
       "<Figure size 432x288 with 1 Axes>"
      ]
     },
     "metadata": {},
     "output_type": "display_data"
    }
   ],
   "source": [
    "df17.plot.scatter(x = 'Age', y = 'Share of respondents')\n",
    "df18.plot.scatter(x = 'Age', y = 'Share of respondents')"
   ]
  },
  {
   "cell_type": "markdown",
   "metadata": {},
   "source": [
    "#### We can observe from the two graphs the difference of the preferrence of different age groups for fast food restaurants. The first line is for the age group 18-29, 30-49, 50-69. Though we can observe the difference of different age groups, this type of viusalization is not very clear to find the difference between the preference of different age groups for different restaurants."
   ]
  },
  {
   "cell_type": "code",
   "execution_count": 70,
   "metadata": {},
   "outputs": [],
   "source": [
    "df17 = pd.read_csv(\"t-restaurants-in-the-us-2017-by-age.csv\")\n",
    "df18 = pd.read_csv(\"t-restaurants-in-the-us-2018-by-age.csv\")"
   ]
  },
  {
   "cell_type": "markdown",
   "metadata": {},
   "source": []
  },
  {
   "cell_type": "code",
   "execution_count": 81,
   "metadata": {},
   "outputs": [
    {
     "data": {
      "text/html": [
       "<div>\n",
       "<style scoped>\n",
       "    .dataframe tbody tr th:only-of-type {\n",
       "        vertical-align: middle;\n",
       "    }\n",
       "\n",
       "    .dataframe tbody tr th {\n",
       "        vertical-align: top;\n",
       "    }\n",
       "\n",
       "    .dataframe thead th {\n",
       "        text-align: right;\n",
       "    }\n",
       "</style>\n",
       "<table border=\"1\" class=\"dataframe\">\n",
       "  <thead>\n",
       "    <tr style=\"text-align: right;\">\n",
       "      <th></th>\n",
       "      <th>Company</th>\n",
       "      <th>Age</th>\n",
       "      <th>Share of respondents</th>\n",
       "      <th>Year</th>\n",
       "    </tr>\n",
       "  </thead>\n",
       "  <tbody>\n",
       "    <tr>\n",
       "      <td>0</td>\n",
       "      <td>Burger King</td>\n",
       "      <td>18-29 years</td>\n",
       "      <td>78.34</td>\n",
       "      <td>2017</td>\n",
       "    </tr>\n",
       "    <tr>\n",
       "      <td>1</td>\n",
       "      <td>Burger King</td>\n",
       "      <td>30-49 years</td>\n",
       "      <td>82.89</td>\n",
       "      <td>2017</td>\n",
       "    </tr>\n",
       "    <tr>\n",
       "      <td>2</td>\n",
       "      <td>Burger King</td>\n",
       "      <td>50-64 years</td>\n",
       "      <td>85.43</td>\n",
       "      <td>2017</td>\n",
       "    </tr>\n",
       "    <tr>\n",
       "      <td>3</td>\n",
       "      <td>Dunkin' Donuts</td>\n",
       "      <td>18-29 years</td>\n",
       "      <td>57.73</td>\n",
       "      <td>2017</td>\n",
       "    </tr>\n",
       "    <tr>\n",
       "      <td>4</td>\n",
       "      <td>Dunkin' Donuts</td>\n",
       "      <td>30-49 years</td>\n",
       "      <td>49.72</td>\n",
       "      <td>2017</td>\n",
       "    </tr>\n",
       "    <tr>\n",
       "      <td>5</td>\n",
       "      <td>Dunkin' Donuts</td>\n",
       "      <td>50-64 years</td>\n",
       "      <td>46.29</td>\n",
       "      <td>2017</td>\n",
       "    </tr>\n",
       "    <tr>\n",
       "      <td>12</td>\n",
       "      <td>McDonald's</td>\n",
       "      <td>18-29 years</td>\n",
       "      <td>82.12</td>\n",
       "      <td>2017</td>\n",
       "    </tr>\n",
       "    <tr>\n",
       "      <td>13</td>\n",
       "      <td>McDonald's</td>\n",
       "      <td>30-49 years</td>\n",
       "      <td>89.99</td>\n",
       "      <td>2017</td>\n",
       "    </tr>\n",
       "    <tr>\n",
       "      <td>14</td>\n",
       "      <td>McDonald's</td>\n",
       "      <td>50-64 years</td>\n",
       "      <td>91.08</td>\n",
       "      <td>2017</td>\n",
       "    </tr>\n",
       "    <tr>\n",
       "      <td>15</td>\n",
       "      <td>Subway</td>\n",
       "      <td>18-29 years</td>\n",
       "      <td>93.73</td>\n",
       "      <td>2017</td>\n",
       "    </tr>\n",
       "  </tbody>\n",
       "</table>\n",
       "</div>"
      ],
      "text/plain": [
       "           Company          Age  Share of respondents  Year\n",
       "0      Burger King  18-29 years                 78.34  2017\n",
       "1      Burger King  30-49 years                 82.89  2017\n",
       "2      Burger King  50-64 years                 85.43  2017\n",
       "3   Dunkin' Donuts  18-29 years                 57.73  2017\n",
       "4   Dunkin' Donuts  30-49 years                 49.72  2017\n",
       "5   Dunkin' Donuts  50-64 years                 46.29  2017\n",
       "12      McDonald's  18-29 years                 82.12  2017\n",
       "13      McDonald's  30-49 years                 89.99  2017\n",
       "14      McDonald's  50-64 years                 91.08  2017\n",
       "15          Subway  18-29 years                 93.73  2017"
      ]
     },
     "execution_count": 81,
     "metadata": {},
     "output_type": "execute_result"
    }
   ],
   "source": [
    "df18['Age'].unique()\n",
    "\n",
    "df18['Age'] = df18['Age'].replace(['18 - 29 years', '30 - 49 years', '50 - 64 years'], ['18-29 years', '30-49 years', '50-64 years'])\n",
    "df18['Age'].unique()\n",
    "\n",
    "\n",
    "df17['Age'].unique()\n",
    "df17['Age'] = df17['Age'].replace(['18 - 29 years', '30 - 49 years', '50 - 64 years'], ['18-29 years', '30-49 years', '50-64 years'])\n",
    "df17['Age'].unique()\n",
    "\n",
    "\n",
    "df17=df17.drop(columns=['Country'])\n",
    "df18=df18.drop(columns=['Country'])\n",
    "df17.head(10)\n"
   ]
  },
  {
   "cell_type": "code",
   "execution_count": 82,
   "metadata": {},
   "outputs": [],
   "source": [
    "indexNames = df17[ df17['Company'] == 'KFC' ].index\n",
    " \n",
    "# Delete these row indexes from dataFrame\n",
    "df17.drop(indexNames , inplace=True)\n"
   ]
  },
  {
   "cell_type": "code",
   "execution_count": 83,
   "metadata": {},
   "outputs": [],
   "source": [
    "indexNames = df18[ df18['Company'] == 'KFC' ].index\n",
    " \n",
    "# Delete these row indexes from dataFrame\n",
    "df18.drop(indexNames , inplace=True)"
   ]
  },
  {
   "cell_type": "code",
   "execution_count": 84,
   "metadata": {},
   "outputs": [],
   "source": [
    "indexNames = df17[ df17['Company'] == 'Papa John\\'s' ].index\n",
    " \n",
    "# Delete these row indexes from dataFrame\n",
    "df17.drop(indexNames , inplace=True)"
   ]
  },
  {
   "cell_type": "code",
   "execution_count": 85,
   "metadata": {},
   "outputs": [],
   "source": [
    "indexNames = df18[ df18['Company'] == 'Papa John\\'s' ].index\n",
    " \n",
    "# Delete these row indexes from dataFrame\n",
    "df18.drop(indexNames , inplace=True)"
   ]
  },
  {
   "cell_type": "code",
   "execution_count": 86,
   "metadata": {},
   "outputs": [],
   "source": [
    "indexNames = df17[ df17['Company'] == 'Chipotle Mexican Grill' ].index\n",
    " \n",
    "# Delete these row indexes from dataFrame\n",
    "df17.drop(indexNames , inplace=True)"
   ]
  },
  {
   "cell_type": "code",
   "execution_count": 87,
   "metadata": {},
   "outputs": [],
   "source": [
    "indexNames = df18[ df18['Company'] == 'Chipotle Mexican Grill'].index\n",
    " \n",
    "# Delete these row indexes from dataFrame\n",
    "df18.drop(indexNames , inplace=True)"
   ]
  },
  {
   "cell_type": "code",
   "execution_count": 88,
   "metadata": {},
   "outputs": [],
   "source": [
    "indexNames = df17[ df17['Company'] == 'Little Caesars' ].index\n",
    " \n",
    "# Delete these row indexes from dataFrame\n",
    "df17.drop(indexNames , inplace=True)\n",
    "\n",
    "indexNames = df18[ df18['Company'] == 'Little Caesars' ].index\n",
    " \n",
    "# Delete these row indexes from dataFrame\n",
    "df18.drop(indexNames , inplace=True)\n",
    "\n",
    "\n",
    "indexNames = df17[ df17['Company'] == 'Jack in the Box' ].index\n",
    " \n",
    "# Delete these row indexes from dataFrame\n",
    "df17.drop(indexNames , inplace=True)\n",
    "\n",
    "indexNames = df18[ df18['Company'] == 'Jack in the Box' ].index\n",
    " \n",
    "# Delete these row indexes from dataFrame\n",
    "df18.drop(indexNames , inplace=True)\n",
    "\n",
    "indexNames = df17[ df17['Company'] == 'Panera Bread' ].index\n",
    " \n",
    "# Delete these row indexes from dataFrame\n",
    "df17.drop(indexNames , inplace=True)\n",
    "\n",
    "indexNames = df18[ df18['Company'] == 'Panera Bread' ].index\n",
    " \n",
    "# Delete these row indexes from dataFrame\n",
    "df18.drop(indexNames , inplace=True)\n",
    "\n",
    "indexNames = df17[ df17['Company'] == 'Arby\\'s' ].index\n",
    " \n",
    "# Delete these row indexes from dataFrame\n",
    "df17.drop(indexNames , inplace=True)\n",
    "\n",
    "indexNames = df18[ df18['Company'] == 'Arby\\'s' ].index\n",
    " \n",
    "# Delete these row indexes from dataFrame\n",
    "df18.drop(indexNames , inplace=True)"
   ]
  },
  {
   "cell_type": "code",
   "execution_count": 89,
   "metadata": {},
   "outputs": [
    {
     "data": {
      "text/plain": [
       "Company                  object\n",
       "Age                      object\n",
       "Share of respondents    float64\n",
       "Year                      int64\n",
       "dtype: object"
      ]
     },
     "execution_count": 89,
     "metadata": {},
     "output_type": "execute_result"
    }
   ],
   "source": [
    "df18.loc[df18['Age'] == '18-29 years']\n",
    "df17.dtypes"
   ]
  },
  {
   "cell_type": "code",
   "execution_count": 90,
   "metadata": {},
   "outputs": [
    {
     "data": {
      "text/html": [
       "<div>\n",
       "<style scoped>\n",
       "    .dataframe tbody tr th:only-of-type {\n",
       "        vertical-align: middle;\n",
       "    }\n",
       "\n",
       "    .dataframe tbody tr th {\n",
       "        vertical-align: top;\n",
       "    }\n",
       "\n",
       "    .dataframe thead th {\n",
       "        text-align: right;\n",
       "    }\n",
       "</style>\n",
       "<table border=\"1\" class=\"dataframe\">\n",
       "  <thead>\n",
       "    <tr style=\"text-align: right;\">\n",
       "      <th></th>\n",
       "      <th>Company</th>\n",
       "      <th>Age</th>\n",
       "      <th>Share of respondents</th>\n",
       "      <th>Year</th>\n",
       "    </tr>\n",
       "  </thead>\n",
       "  <tbody>\n",
       "    <tr>\n",
       "      <td>0</td>\n",
       "      <td>Burger King</td>\n",
       "      <td>18-29 years</td>\n",
       "      <td>78.34</td>\n",
       "      <td>2017</td>\n",
       "    </tr>\n",
       "    <tr>\n",
       "      <td>1</td>\n",
       "      <td>Burger King</td>\n",
       "      <td>30-49 years</td>\n",
       "      <td>82.89</td>\n",
       "      <td>2017</td>\n",
       "    </tr>\n",
       "    <tr>\n",
       "      <td>2</td>\n",
       "      <td>Burger King</td>\n",
       "      <td>50-64 years</td>\n",
       "      <td>85.43</td>\n",
       "      <td>2017</td>\n",
       "    </tr>\n",
       "    <tr>\n",
       "      <td>3</td>\n",
       "      <td>Dunkin' Donuts</td>\n",
       "      <td>18-29 years</td>\n",
       "      <td>57.73</td>\n",
       "      <td>2017</td>\n",
       "    </tr>\n",
       "    <tr>\n",
       "      <td>4</td>\n",
       "      <td>Dunkin' Donuts</td>\n",
       "      <td>30-49 years</td>\n",
       "      <td>49.72</td>\n",
       "      <td>2017</td>\n",
       "    </tr>\n",
       "    <tr>\n",
       "      <td>...</td>\n",
       "      <td>...</td>\n",
       "      <td>...</td>\n",
       "      <td>...</td>\n",
       "      <td>...</td>\n",
       "    </tr>\n",
       "    <tr>\n",
       "      <td>41</td>\n",
       "      <td>Starbucks</td>\n",
       "      <td>50-64 years</td>\n",
       "      <td>90.02</td>\n",
       "      <td>2018</td>\n",
       "    </tr>\n",
       "    <tr>\n",
       "      <td>45</td>\n",
       "      <td>Taco Bell</td>\n",
       "      <td>18-29 years</td>\n",
       "      <td>74.76</td>\n",
       "      <td>2018</td>\n",
       "    </tr>\n",
       "    <tr>\n",
       "      <td>46</td>\n",
       "      <td>Taco Bell</td>\n",
       "      <td>30-49 years</td>\n",
       "      <td>81.23</td>\n",
       "      <td>2018</td>\n",
       "    </tr>\n",
       "    <tr>\n",
       "      <td>47</td>\n",
       "      <td>Taco Bell</td>\n",
       "      <td>50-64 years</td>\n",
       "      <td>86.90</td>\n",
       "      <td>2018</td>\n",
       "    </tr>\n",
       "    <tr>\n",
       "      <td>51</td>\n",
       "      <td>Taco Bell</td>\n",
       "      <td>50-64 years</td>\n",
       "      <td>86.90</td>\n",
       "      <td>2018</td>\n",
       "    </tr>\n",
       "  </tbody>\n",
       "</table>\n",
       "<p>62 rows × 4 columns</p>\n",
       "</div>"
      ],
      "text/plain": [
       "           Company          Age  Share of respondents  Year\n",
       "0      Burger King  18-29 years                 78.34  2017\n",
       "1      Burger King  30-49 years                 82.89  2017\n",
       "2      Burger King  50-64 years                 85.43  2017\n",
       "3   Dunkin' Donuts  18-29 years                 57.73  2017\n",
       "4   Dunkin' Donuts  30-49 years                 49.72  2017\n",
       "..             ...          ...                   ...   ...\n",
       "41       Starbucks  50-64 years                 90.02  2018\n",
       "45       Taco Bell  18-29 years                 74.76  2018\n",
       "46       Taco Bell  30-49 years                 81.23  2018\n",
       "47       Taco Bell  50-64 years                 86.90  2018\n",
       "51       Taco Bell  50-64 years                 86.90  2018\n",
       "\n",
       "[62 rows x 4 columns]"
      ]
     },
     "execution_count": 90,
     "metadata": {},
     "output_type": "execute_result"
    }
   ],
   "source": [
    "frames = [df17, df18]\n",
    "dfmerged = pd.concat(frames)\n",
    "dfmerged"
   ]
  },
  {
   "cell_type": "code",
   "execution_count": 91,
   "metadata": {},
   "outputs": [
    {
     "data": {
      "text/html": [
       "<div>\n",
       "<style scoped>\n",
       "    .dataframe tbody tr th:only-of-type {\n",
       "        vertical-align: middle;\n",
       "    }\n",
       "\n",
       "    .dataframe tbody tr th {\n",
       "        vertical-align: top;\n",
       "    }\n",
       "\n",
       "    .dataframe thead th {\n",
       "        text-align: right;\n",
       "    }\n",
       "</style>\n",
       "<table border=\"1\" class=\"dataframe\">\n",
       "  <thead>\n",
       "    <tr style=\"text-align: right;\">\n",
       "      <th></th>\n",
       "      <th>Company</th>\n",
       "      <th>Age</th>\n",
       "      <th>Share of respondents</th>\n",
       "      <th>Year</th>\n",
       "    </tr>\n",
       "  </thead>\n",
       "  <tbody>\n",
       "    <tr>\n",
       "      <td>0</td>\n",
       "      <td>Burger King</td>\n",
       "      <td>18-29 years</td>\n",
       "      <td>78.34</td>\n",
       "      <td>2017</td>\n",
       "    </tr>\n",
       "    <tr>\n",
       "      <td>3</td>\n",
       "      <td>Dunkin' Donuts</td>\n",
       "      <td>18-29 years</td>\n",
       "      <td>57.73</td>\n",
       "      <td>2017</td>\n",
       "    </tr>\n",
       "    <tr>\n",
       "      <td>12</td>\n",
       "      <td>McDonald's</td>\n",
       "      <td>18-29 years</td>\n",
       "      <td>82.12</td>\n",
       "      <td>2017</td>\n",
       "    </tr>\n",
       "    <tr>\n",
       "      <td>15</td>\n",
       "      <td>Subway</td>\n",
       "      <td>18-29 years</td>\n",
       "      <td>93.73</td>\n",
       "      <td>2017</td>\n",
       "    </tr>\n",
       "    <tr>\n",
       "      <td>18</td>\n",
       "      <td>Wendy's</td>\n",
       "      <td>18-29 years</td>\n",
       "      <td>88.64</td>\n",
       "      <td>2017</td>\n",
       "    </tr>\n",
       "    <tr>\n",
       "      <td>21</td>\n",
       "      <td>Pizza Hut</td>\n",
       "      <td>18-29 years</td>\n",
       "      <td>97.56</td>\n",
       "      <td>2017</td>\n",
       "    </tr>\n",
       "    <tr>\n",
       "      <td>24</td>\n",
       "      <td>Chick-fil-A</td>\n",
       "      <td>18-29 years</td>\n",
       "      <td>74.32</td>\n",
       "      <td>2017</td>\n",
       "    </tr>\n",
       "    <tr>\n",
       "      <td>36</td>\n",
       "      <td>Domino's</td>\n",
       "      <td>18-29 years</td>\n",
       "      <td>93.65</td>\n",
       "      <td>2017</td>\n",
       "    </tr>\n",
       "    <tr>\n",
       "      <td>39</td>\n",
       "      <td>Starbucks</td>\n",
       "      <td>18-29 years</td>\n",
       "      <td>85.19</td>\n",
       "      <td>2017</td>\n",
       "    </tr>\n",
       "    <tr>\n",
       "      <td>45</td>\n",
       "      <td>Taco Bell</td>\n",
       "      <td>18-29 years</td>\n",
       "      <td>84.74</td>\n",
       "      <td>2017</td>\n",
       "    </tr>\n",
       "    <tr>\n",
       "      <td>0</td>\n",
       "      <td>Burger King</td>\n",
       "      <td>18-29 years</td>\n",
       "      <td>53.53</td>\n",
       "      <td>2018</td>\n",
       "    </tr>\n",
       "    <tr>\n",
       "      <td>3</td>\n",
       "      <td>Dunkin' Donuts</td>\n",
       "      <td>18-29 years</td>\n",
       "      <td>35.87</td>\n",
       "      <td>2018</td>\n",
       "    </tr>\n",
       "    <tr>\n",
       "      <td>12</td>\n",
       "      <td>McDonald's</td>\n",
       "      <td>18-29 years</td>\n",
       "      <td>68.07</td>\n",
       "      <td>2018</td>\n",
       "    </tr>\n",
       "    <tr>\n",
       "      <td>15</td>\n",
       "      <td>Subway</td>\n",
       "      <td>18-29 years</td>\n",
       "      <td>55.17</td>\n",
       "      <td>2018</td>\n",
       "    </tr>\n",
       "    <tr>\n",
       "      <td>18</td>\n",
       "      <td>Wendy's</td>\n",
       "      <td>18-29 years</td>\n",
       "      <td>54.07</td>\n",
       "      <td>2018</td>\n",
       "    </tr>\n",
       "    <tr>\n",
       "      <td>21</td>\n",
       "      <td>Pizza Hut</td>\n",
       "      <td>18-29 years</td>\n",
       "      <td>67.98</td>\n",
       "      <td>2018</td>\n",
       "    </tr>\n",
       "    <tr>\n",
       "      <td>24</td>\n",
       "      <td>Chick-fil-A</td>\n",
       "      <td>18-29 years</td>\n",
       "      <td>67.54</td>\n",
       "      <td>2018</td>\n",
       "    </tr>\n",
       "    <tr>\n",
       "      <td>36</td>\n",
       "      <td>Domino's</td>\n",
       "      <td>18-29 years</td>\n",
       "      <td>91.87</td>\n",
       "      <td>2018</td>\n",
       "    </tr>\n",
       "    <tr>\n",
       "      <td>39</td>\n",
       "      <td>Starbucks</td>\n",
       "      <td>18-29 years</td>\n",
       "      <td>82.86</td>\n",
       "      <td>2018</td>\n",
       "    </tr>\n",
       "    <tr>\n",
       "      <td>45</td>\n",
       "      <td>Taco Bell</td>\n",
       "      <td>18-29 years</td>\n",
       "      <td>74.76</td>\n",
       "      <td>2018</td>\n",
       "    </tr>\n",
       "  </tbody>\n",
       "</table>\n",
       "</div>"
      ],
      "text/plain": [
       "           Company          Age  Share of respondents  Year\n",
       "0      Burger King  18-29 years                 78.34  2017\n",
       "3   Dunkin' Donuts  18-29 years                 57.73  2017\n",
       "12      McDonald's  18-29 years                 82.12  2017\n",
       "15          Subway  18-29 years                 93.73  2017\n",
       "18         Wendy's  18-29 years                 88.64  2017\n",
       "21       Pizza Hut  18-29 years                 97.56  2017\n",
       "24     Chick-fil-A  18-29 years                 74.32  2017\n",
       "36        Domino's  18-29 years                 93.65  2017\n",
       "39       Starbucks  18-29 years                 85.19  2017\n",
       "45       Taco Bell  18-29 years                 84.74  2017\n",
       "0      Burger King  18-29 years                 53.53  2018\n",
       "3   Dunkin' Donuts  18-29 years                 35.87  2018\n",
       "12      McDonald's  18-29 years                 68.07  2018\n",
       "15          Subway  18-29 years                 55.17  2018\n",
       "18         Wendy's  18-29 years                 54.07  2018\n",
       "21       Pizza Hut  18-29 years                 67.98  2018\n",
       "24     Chick-fil-A  18-29 years                 67.54  2018\n",
       "36        Domino's  18-29 years                 91.87  2018\n",
       "39       Starbucks  18-29 years                 82.86  2018\n",
       "45       Taco Bell  18-29 years                 74.76  2018"
      ]
     },
     "execution_count": 91,
     "metadata": {},
     "output_type": "execute_result"
    }
   ],
   "source": [
    "dfmergedAge1 = dfmerged.loc[dfmerged['Age'] == '18-29 years']\n",
    "dfmergedAge1"
   ]
  },
  {
   "cell_type": "markdown",
   "metadata": {},
   "source": [
    "#### Then these datasets have been merged in a single dataset. Then we have compared the share of  all age groups with respect to year 2018 and 2017.\n",
    "For age group 18-29<br/>\n",
    "For age group 30-49 <br/>\n",
    "For age group 50-64 <br/>\n",
    "Legend : blue=2017, yellow = 2018<br/>"
   ]
  },
  {
   "cell_type": "code",
   "execution_count": 92,
   "metadata": {},
   "outputs": [
    {
     "data": {
      "image/png": "[encoded data removed]",
      "text/plain": [
       "<Figure size 3600x216 with 1 Axes>"
      ]
     },
     "metadata": {},
     "output_type": "display_data"
    }
   ],
   "source": [
    "import matplotlib.pyplot as plt\n",
    "\n",
    "plt.figure(figsize=(50, 3))\n",
    "\n",
    "plt.suptitle('Analysis of age group 18 - 29 in 2017-18')\n",
    "plt.subplot(132)\n",
    "plt.ylabel('18-29 years peopple in %')\n",
    "plt.scatter(x=dfmergedAge1['Company'], y=dfmergedAge1['Share of respondents'],c=dfmergedAge1['Year'])\n",
    "plt.show()"
   ]
  },
  {
   "cell_type": "code",
   "execution_count": 93,
   "metadata": {},
   "outputs": [
    {
     "data": {
      "text/html": [
       "<div>\n",
       "<style scoped>\n",
       "    .dataframe tbody tr th:only-of-type {\n",
       "        vertical-align: middle;\n",
       "    }\n",
       "\n",
       "    .dataframe tbody tr th {\n",
       "        vertical-align: top;\n",
       "    }\n",
       "\n",
       "    .dataframe thead th {\n",
       "        text-align: right;\n",
       "    }\n",
       "</style>\n",
       "<table border=\"1\" class=\"dataframe\">\n",
       "  <thead>\n",
       "    <tr style=\"text-align: right;\">\n",
       "      <th></th>\n",
       "      <th>Company</th>\n",
       "      <th>Age</th>\n",
       "      <th>Share of respondents</th>\n",
       "      <th>Year</th>\n",
       "    </tr>\n",
       "  </thead>\n",
       "  <tbody>\n",
       "    <tr>\n",
       "      <td>1</td>\n",
       "      <td>Burger King</td>\n",
       "      <td>30-49 years</td>\n",
       "      <td>82.89</td>\n",
       "      <td>2017</td>\n",
       "    </tr>\n",
       "    <tr>\n",
       "      <td>4</td>\n",
       "      <td>Dunkin' Donuts</td>\n",
       "      <td>30-49 years</td>\n",
       "      <td>49.72</td>\n",
       "      <td>2017</td>\n",
       "    </tr>\n",
       "    <tr>\n",
       "      <td>13</td>\n",
       "      <td>McDonald's</td>\n",
       "      <td>30-49 years</td>\n",
       "      <td>89.99</td>\n",
       "      <td>2017</td>\n",
       "    </tr>\n",
       "    <tr>\n",
       "      <td>16</td>\n",
       "      <td>Subway</td>\n",
       "      <td>30-49 years</td>\n",
       "      <td>94.34</td>\n",
       "      <td>2017</td>\n",
       "    </tr>\n",
       "    <tr>\n",
       "      <td>19</td>\n",
       "      <td>Wendy's</td>\n",
       "      <td>30-49 years</td>\n",
       "      <td>87.26</td>\n",
       "      <td>2017</td>\n",
       "    </tr>\n",
       "    <tr>\n",
       "      <td>22</td>\n",
       "      <td>Pizza Hut</td>\n",
       "      <td>30-49 years</td>\n",
       "      <td>94.31</td>\n",
       "      <td>2017</td>\n",
       "    </tr>\n",
       "    <tr>\n",
       "      <td>25</td>\n",
       "      <td>Chick-fil-A</td>\n",
       "      <td>30-49 years</td>\n",
       "      <td>69.45</td>\n",
       "      <td>2017</td>\n",
       "    </tr>\n",
       "    <tr>\n",
       "      <td>37</td>\n",
       "      <td>Domino's</td>\n",
       "      <td>30-49 years</td>\n",
       "      <td>96.11</td>\n",
       "      <td>2017</td>\n",
       "    </tr>\n",
       "    <tr>\n",
       "      <td>40</td>\n",
       "      <td>Starbucks</td>\n",
       "      <td>30-49 years</td>\n",
       "      <td>86.28</td>\n",
       "      <td>2017</td>\n",
       "    </tr>\n",
       "    <tr>\n",
       "      <td>46</td>\n",
       "      <td>Taco Bell</td>\n",
       "      <td>30-49 years</td>\n",
       "      <td>85.16</td>\n",
       "      <td>2017</td>\n",
       "    </tr>\n",
       "    <tr>\n",
       "      <td>1</td>\n",
       "      <td>Burger King</td>\n",
       "      <td>30-49 years</td>\n",
       "      <td>63.95</td>\n",
       "      <td>2018</td>\n",
       "    </tr>\n",
       "    <tr>\n",
       "      <td>4</td>\n",
       "      <td>Dunkin' Donuts</td>\n",
       "      <td>30-49 years</td>\n",
       "      <td>40.81</td>\n",
       "      <td>2018</td>\n",
       "    </tr>\n",
       "    <tr>\n",
       "      <td>13</td>\n",
       "      <td>McDonald's</td>\n",
       "      <td>30-49 years</td>\n",
       "      <td>73.42</td>\n",
       "      <td>2018</td>\n",
       "    </tr>\n",
       "    <tr>\n",
       "      <td>16</td>\n",
       "      <td>Subway</td>\n",
       "      <td>30-49 years</td>\n",
       "      <td>63.28</td>\n",
       "      <td>2018</td>\n",
       "    </tr>\n",
       "    <tr>\n",
       "      <td>19</td>\n",
       "      <td>Wendy's</td>\n",
       "      <td>30-49 years</td>\n",
       "      <td>61.55</td>\n",
       "      <td>2018</td>\n",
       "    </tr>\n",
       "    <tr>\n",
       "      <td>22</td>\n",
       "      <td>Pizza Hut</td>\n",
       "      <td>30-49 years</td>\n",
       "      <td>89.43</td>\n",
       "      <td>2018</td>\n",
       "    </tr>\n",
       "    <tr>\n",
       "      <td>25</td>\n",
       "      <td>Chick-fil-A</td>\n",
       "      <td>30-49 years</td>\n",
       "      <td>23.98</td>\n",
       "      <td>2018</td>\n",
       "    </tr>\n",
       "    <tr>\n",
       "      <td>37</td>\n",
       "      <td>Domino's</td>\n",
       "      <td>30-49 years</td>\n",
       "      <td>85.63</td>\n",
       "      <td>2018</td>\n",
       "    </tr>\n",
       "    <tr>\n",
       "      <td>40</td>\n",
       "      <td>Starbucks</td>\n",
       "      <td>30-49 years</td>\n",
       "      <td>89.54</td>\n",
       "      <td>2018</td>\n",
       "    </tr>\n",
       "    <tr>\n",
       "      <td>46</td>\n",
       "      <td>Taco Bell</td>\n",
       "      <td>30-49 years</td>\n",
       "      <td>81.23</td>\n",
       "      <td>2018</td>\n",
       "    </tr>\n",
       "  </tbody>\n",
       "</table>\n",
       "</div>"
      ],
      "text/plain": [
       "           Company          Age  Share of respondents  Year\n",
       "1      Burger King  30-49 years                 82.89  2017\n",
       "4   Dunkin' Donuts  30-49 years                 49.72  2017\n",
       "13      McDonald's  30-49 years                 89.99  2017\n",
       "16          Subway  30-49 years                 94.34  2017\n",
       "19         Wendy's  30-49 years                 87.26  2017\n",
       "22       Pizza Hut  30-49 years                 94.31  2017\n",
       "25     Chick-fil-A  30-49 years                 69.45  2017\n",
       "37        Domino's  30-49 years                 96.11  2017\n",
       "40       Starbucks  30-49 years                 86.28  2017\n",
       "46       Taco Bell  30-49 years                 85.16  2017\n",
       "1      Burger King  30-49 years                 63.95  2018\n",
       "4   Dunkin' Donuts  30-49 years                 40.81  2018\n",
       "13      McDonald's  30-49 years                 73.42  2018\n",
       "16          Subway  30-49 years                 63.28  2018\n",
       "19         Wendy's  30-49 years                 61.55  2018\n",
       "22       Pizza Hut  30-49 years                 89.43  2018\n",
       "25     Chick-fil-A  30-49 years                 23.98  2018\n",
       "37        Domino's  30-49 years                 85.63  2018\n",
       "40       Starbucks  30-49 years                 89.54  2018\n",
       "46       Taco Bell  30-49 years                 81.23  2018"
      ]
     },
     "execution_count": 93,
     "metadata": {},
     "output_type": "execute_result"
    }
   ],
   "source": [
    "dfmergedAge2=dfmerged.loc[dfmerged['Age'] == '30-49 years']\n",
    "dfmergedAge2"
   ]
  },
  {
   "cell_type": "code",
   "execution_count": 94,
   "metadata": {},
   "outputs": [
    {
     "data": {
      "image/png": "[encoded data removed]",
      "text/plain": [
       "<Figure size 3600x216 with 1 Axes>"
      ]
     },
     "metadata": {},
     "output_type": "display_data"
    }
   ],
   "source": [
    "import matplotlib.pyplot as plt\n",
    "\n",
    "\n",
    "plt.figure(figsize=(50, 3))\n",
    "plt.suptitle('Analysis of age group 30 - 49 in 2017-18')\n",
    "plt.subplot(132)\n",
    "plt.ylabel('30-49 years peopple in %')\n",
    "\n",
    "plt.scatter(x=dfmergedAge2['Company'], y=dfmergedAge2['Share of respondents'],c=dfmergedAge2['Year'])\n",
    "plt.show()"
   ]
  },
  {
   "cell_type": "code",
   "execution_count": 95,
   "metadata": {},
   "outputs": [
    {
     "data": {
      "text/html": [
       "<div>\n",
       "<style scoped>\n",
       "    .dataframe tbody tr th:only-of-type {\n",
       "        vertical-align: middle;\n",
       "    }\n",
       "\n",
       "    .dataframe tbody tr th {\n",
       "        vertical-align: top;\n",
       "    }\n",
       "\n",
       "    .dataframe thead th {\n",
       "        text-align: right;\n",
       "    }\n",
       "</style>\n",
       "<table border=\"1\" class=\"dataframe\">\n",
       "  <thead>\n",
       "    <tr style=\"text-align: right;\">\n",
       "      <th></th>\n",
       "      <th>Company</th>\n",
       "      <th>Age</th>\n",
       "      <th>Share of respondents</th>\n",
       "      <th>Year</th>\n",
       "    </tr>\n",
       "  </thead>\n",
       "  <tbody>\n",
       "    <tr>\n",
       "      <td>2</td>\n",
       "      <td>Burger King</td>\n",
       "      <td>50-64 years</td>\n",
       "      <td>85.43</td>\n",
       "      <td>2017</td>\n",
       "    </tr>\n",
       "    <tr>\n",
       "      <td>5</td>\n",
       "      <td>Dunkin' Donuts</td>\n",
       "      <td>50-64 years</td>\n",
       "      <td>46.29</td>\n",
       "      <td>2017</td>\n",
       "    </tr>\n",
       "    <tr>\n",
       "      <td>14</td>\n",
       "      <td>McDonald's</td>\n",
       "      <td>50-64 years</td>\n",
       "      <td>91.08</td>\n",
       "      <td>2017</td>\n",
       "    </tr>\n",
       "    <tr>\n",
       "      <td>17</td>\n",
       "      <td>Subway</td>\n",
       "      <td>50-64 years</td>\n",
       "      <td>90.12</td>\n",
       "      <td>2017</td>\n",
       "    </tr>\n",
       "    <tr>\n",
       "      <td>20</td>\n",
       "      <td>Wendy's</td>\n",
       "      <td>50-64 years</td>\n",
       "      <td>83.29</td>\n",
       "      <td>2017</td>\n",
       "    </tr>\n",
       "    <tr>\n",
       "      <td>23</td>\n",
       "      <td>Pizza Hut</td>\n",
       "      <td>50-64 years</td>\n",
       "      <td>92.12</td>\n",
       "      <td>2017</td>\n",
       "    </tr>\n",
       "    <tr>\n",
       "      <td>26</td>\n",
       "      <td>Chick-fil-A</td>\n",
       "      <td>50-64 years</td>\n",
       "      <td>71.26</td>\n",
       "      <td>2017</td>\n",
       "    </tr>\n",
       "    <tr>\n",
       "      <td>38</td>\n",
       "      <td>Domino's</td>\n",
       "      <td>50-64 years</td>\n",
       "      <td>97.39</td>\n",
       "      <td>2017</td>\n",
       "    </tr>\n",
       "    <tr>\n",
       "      <td>41</td>\n",
       "      <td>Starbucks</td>\n",
       "      <td>50-64 years</td>\n",
       "      <td>89.01</td>\n",
       "      <td>2017</td>\n",
       "    </tr>\n",
       "    <tr>\n",
       "      <td>47</td>\n",
       "      <td>Taco Bell</td>\n",
       "      <td>50-64 years</td>\n",
       "      <td>87.37</td>\n",
       "      <td>2017</td>\n",
       "    </tr>\n",
       "    <tr>\n",
       "      <td>51</td>\n",
       "      <td>Taco Bell</td>\n",
       "      <td>50-64 years</td>\n",
       "      <td>87.37</td>\n",
       "      <td>2017</td>\n",
       "    </tr>\n",
       "    <tr>\n",
       "      <td>2</td>\n",
       "      <td>Burger King</td>\n",
       "      <td>50-64 years</td>\n",
       "      <td>51.24</td>\n",
       "      <td>2018</td>\n",
       "    </tr>\n",
       "    <tr>\n",
       "      <td>5</td>\n",
       "      <td>Dunkin' Donuts</td>\n",
       "      <td>50-64 years</td>\n",
       "      <td>24.09</td>\n",
       "      <td>2018</td>\n",
       "    </tr>\n",
       "    <tr>\n",
       "      <td>14</td>\n",
       "      <td>McDonald's</td>\n",
       "      <td>50-64 years</td>\n",
       "      <td>65.14</td>\n",
       "      <td>2018</td>\n",
       "    </tr>\n",
       "    <tr>\n",
       "      <td>17</td>\n",
       "      <td>Subway</td>\n",
       "      <td>50-64 years</td>\n",
       "      <td>55.38</td>\n",
       "      <td>2018</td>\n",
       "    </tr>\n",
       "    <tr>\n",
       "      <td>20</td>\n",
       "      <td>Wendy's</td>\n",
       "      <td>50-64 years</td>\n",
       "      <td>48.68</td>\n",
       "      <td>2018</td>\n",
       "    </tr>\n",
       "    <tr>\n",
       "      <td>23</td>\n",
       "      <td>Pizza Hut</td>\n",
       "      <td>50-64 years</td>\n",
       "      <td>78.90</td>\n",
       "      <td>2018</td>\n",
       "    </tr>\n",
       "    <tr>\n",
       "      <td>26</td>\n",
       "      <td>Chick-fil-A</td>\n",
       "      <td>50-64 years</td>\n",
       "      <td>55.76</td>\n",
       "      <td>2018</td>\n",
       "    </tr>\n",
       "    <tr>\n",
       "      <td>38</td>\n",
       "      <td>Domino's</td>\n",
       "      <td>50-64 years</td>\n",
       "      <td>93.90</td>\n",
       "      <td>2018</td>\n",
       "    </tr>\n",
       "    <tr>\n",
       "      <td>41</td>\n",
       "      <td>Starbucks</td>\n",
       "      <td>50-64 years</td>\n",
       "      <td>90.02</td>\n",
       "      <td>2018</td>\n",
       "    </tr>\n",
       "    <tr>\n",
       "      <td>47</td>\n",
       "      <td>Taco Bell</td>\n",
       "      <td>50-64 years</td>\n",
       "      <td>86.90</td>\n",
       "      <td>2018</td>\n",
       "    </tr>\n",
       "    <tr>\n",
       "      <td>51</td>\n",
       "      <td>Taco Bell</td>\n",
       "      <td>50-64 years</td>\n",
       "      <td>86.90</td>\n",
       "      <td>2018</td>\n",
       "    </tr>\n",
       "  </tbody>\n",
       "</table>\n",
       "</div>"
      ],
      "text/plain": [
       "           Company          Age  Share of respondents  Year\n",
       "2      Burger King  50-64 years                 85.43  2017\n",
       "5   Dunkin' Donuts  50-64 years                 46.29  2017\n",
       "14      McDonald's  50-64 years                 91.08  2017\n",
       "17          Subway  50-64 years                 90.12  2017\n",
       "20         Wendy's  50-64 years                 83.29  2017\n",
       "23       Pizza Hut  50-64 years                 92.12  2017\n",
       "26     Chick-fil-A  50-64 years                 71.26  2017\n",
       "38        Domino's  50-64 years                 97.39  2017\n",
       "41       Starbucks  50-64 years                 89.01  2017\n",
       "47       Taco Bell  50-64 years                 87.37  2017\n",
       "51       Taco Bell  50-64 years                 87.37  2017\n",
       "2      Burger King  50-64 years                 51.24  2018\n",
       "5   Dunkin' Donuts  50-64 years                 24.09  2018\n",
       "14      McDonald's  50-64 years                 65.14  2018\n",
       "17          Subway  50-64 years                 55.38  2018\n",
       "20         Wendy's  50-64 years                 48.68  2018\n",
       "23       Pizza Hut  50-64 years                 78.90  2018\n",
       "26     Chick-fil-A  50-64 years                 55.76  2018\n",
       "38        Domino's  50-64 years                 93.90  2018\n",
       "41       Starbucks  50-64 years                 90.02  2018\n",
       "47       Taco Bell  50-64 years                 86.90  2018\n",
       "51       Taco Bell  50-64 years                 86.90  2018"
      ]
     },
     "execution_count": 95,
     "metadata": {},
     "output_type": "execute_result"
    }
   ],
   "source": [
    "dfmergedAge3=dfmerged.loc[dfmerged['Age'] == '50-64 years']\n",
    "dfmergedAge3"
   ]
  },
  {
   "cell_type": "code",
   "execution_count": 96,
   "metadata": {},
   "outputs": [
    {
     "data": {
      "image/png": "[encoded data removed]",
      "text/plain": [
       "<Figure size 3600x216 with 1 Axes>"
      ]
     },
     "metadata": {},
     "output_type": "display_data"
    }
   ],
   "source": [
    "import matplotlib.pyplot as plt\n",
    "\n",
    "\n",
    "plt.figure(figsize=(50, 3))\n",
    "plt.suptitle('Analysis of age group 50 - 64 in 2017-18')\n",
    "plt.subplot(132)\n",
    "plt.ylabel('50-64years peopple in %')\n",
    "plt.scatter(x=dfmergedAge3['Company'], y=dfmergedAge3['Share of respondents'],c=dfmergedAge3['Year'])\n",
    "plt.show()"
   ]
  },
  {
   "cell_type": "markdown",
   "metadata": {},
   "source": [
    "#### From above 3 graphs, we can conclusively say that percentage of people who visit fast food restaurants have been decreased in year 2018 across all age groups except starbucks and dominos . Surprisingly, the number has been consistent among all age groups for starbucks.\n",
    "#### This might show that people have been leaning towards a more healthy life in 2018.\n"
   ]
  },
  {
   "cell_type": "code",
   "execution_count": 97,
   "metadata": {},
   "outputs": [],
   "source": [
    "df17Age1=df17.loc[df17['Age'] == '18-29 years']\n",
    "df18Age1=df17.loc[df17['Age'] == '18-29 years']"
   ]
  },
  {
   "cell_type": "markdown",
   "metadata": {},
   "source": [
    "<b>Seaborn graph</b> A graph below shows the visualization of share of respondents across all age groups for all fast food restaurants in 2017 and 2018. "
   ]
  },
  {
   "cell_type": "code",
   "execution_count": 101,
   "metadata": {},
   "outputs": [
    {
     "data": {
      "text/plain": [
       "<seaborn.axisgrid.PairGrid at 0x1674b3bbf88>"
      ]
     },
     "execution_count": 101,
     "metadata": {},
     "output_type": "execute_result"
    },
    {
     "data": {
      "image/png": "[encoded data removed]",
      "text/plain": [
       "<Figure size 815.625x720 with 1 Axes>"
      ]
     },
     "metadata": {},
     "output_type": "display_data"
    }
   ],
   "source": [
    "import seaborn as sns\n",
    "sns.pairplot(x_vars=[\"Company\"], y_vars=[\"Share of respondents\"], data=df17, hue=\"Age\", size=10)"
   ]
  },
  {
   "cell_type": "code",
   "execution_count": 99,
   "metadata": {},
   "outputs": [
    {
     "data": {
      "text/plain": [
       "<seaborn.axisgrid.PairGrid at 0x1674aac3088>"
      ]
     },
     "execution_count": 99,
     "metadata": {},
     "output_type": "execute_result"
    },
    {
     "data": {
      "image/png": "[encoded data removed]",
      "text/plain": [
       "<Figure size 815.625x720 with 1 Axes>"
      ]
     },
     "metadata": {},
     "output_type": "display_data"
    }
   ],
   "source": [
    "import seaborn as sns\n",
    "sns.pairplot(x_vars=[\"Company\"], y_vars=[\"Share of respondents\"], data=df18, hue=\"Age\", size=10)"
   ]
  },
  {
   "cell_type": "markdown",
   "metadata": {},
   "source": [
    "<b>Observation</b>One of the interesting thing to note here is that groups 50-64 years prefer Burger King, McDonald's, Domino's, Starbucks and Taco Bell the highest compared to other groups in 2017. But, in 2018, though Domino's, starbucks and Taco Bell remained popular among this age group, Burger King and Mc Donald's seem to have lost the catch among this age group.\n",
    "\n",
    "Similary, the younger generation seemed to have liked pizza hut and Chik-fil-A a lot in 2017 but in 2018 they justt did not like it that much.\n",
    "\n",
    "We can also observe that group 30-49 years of age who did not prefer eating in fast food restaurants in 2017 have started enjoying it in 2018 as compared to other groups."
   ]
  },
  {
   "cell_type": "markdown",
   "metadata": {},
   "source": [
    "<b> Prediction Analysis</b> In the following steps we would like to try to build a prediction for the preference of customers in different age groups in the coming year."
   ]
  },
  {
   "cell_type": "markdown",
   "metadata": {},
   "source": [
    "We decided to use the Algorithm ARIMA for the prediction analysis. \n",
    "Analysing our data led to look for a model which will be more efficient in predicting the time series. The Autoregressive Integrated Moving Average Model, or ARIMA for short is a standard statistical model for time series which we can use to train and forecast the future times.The model uses observations and applies weight to every observed term and these weights will be used to forecast the time points. Arima uses autoregression for estimation.\n",
    "\n",
    "A nonseasonal ARIMA model is classified as an \"ARIMA(p,d,q)\" model, where:\n",
    "p is the number of autoregressive terms,\n",
    "d is Differencing order\n",
    "q is the Moving average feature of the model. \n",
    "We used ARIMA(1,0,0) which is also called as  first-order autoregressive model.\n"
   ]
  },
  {
   "cell_type": "code",
   "execution_count": 107,
   "metadata": {},
   "outputs": [
    {
     "data": {
      "text/html": [
       "<div>\n",
       "<style scoped>\n",
       "    .dataframe tbody tr th:only-of-type {\n",
       "        vertical-align: middle;\n",
       "    }\n",
       "\n",
       "    .dataframe tbody tr th {\n",
       "        vertical-align: top;\n",
       "    }\n",
       "\n",
       "    .dataframe thead th {\n",
       "        text-align: right;\n",
       "    }\n",
       "</style>\n",
       "<table border=\"1\" class=\"dataframe\">\n",
       "  <thead>\n",
       "    <tr style=\"text-align: right;\">\n",
       "      <th></th>\n",
       "      <th>Company</th>\n",
       "      <th>Age</th>\n",
       "      <th>Share of respondents</th>\n",
       "      <th>Year</th>\n",
       "    </tr>\n",
       "  </thead>\n",
       "  <tbody>\n",
       "    <tr>\n",
       "      <td>0</td>\n",
       "      <td>Burger King</td>\n",
       "      <td>18-29 years</td>\n",
       "      <td>78.34</td>\n",
       "      <td>2017</td>\n",
       "    </tr>\n",
       "    <tr>\n",
       "      <td>1</td>\n",
       "      <td>Burger King</td>\n",
       "      <td>30-49 years</td>\n",
       "      <td>82.89</td>\n",
       "      <td>2017</td>\n",
       "    </tr>\n",
       "    <tr>\n",
       "      <td>2</td>\n",
       "      <td>Burger King</td>\n",
       "      <td>50-64 years</td>\n",
       "      <td>85.43</td>\n",
       "      <td>2017</td>\n",
       "    </tr>\n",
       "  </tbody>\n",
       "</table>\n",
       "</div>"
      ],
      "text/plain": [
       "       Company          Age  Share of respondents  Year\n",
       "0  Burger King  18-29 years                 78.34  2017\n",
       "1  Burger King  30-49 years                 82.89  2017\n",
       "2  Burger King  50-64 years                 85.43  2017"
      ]
     },
     "execution_count": 107,
     "metadata": {},
     "output_type": "execute_result"
    }
   ],
   "source": [
    "dfKing = df17[df17['Company'] == 'Burger King']\n",
    "dfKing"
   ]
  },
  {
   "cell_type": "code",
   "execution_count": 108,
   "metadata": {},
   "outputs": [],
   "source": [
    "dfKing18 = df18[df18['Company'] == 'Burger King']"
   ]
  },
  {
   "cell_type": "code",
   "execution_count": 109,
   "metadata": {},
   "outputs": [
    {
     "data": {
      "text/html": [
       "<div>\n",
       "<style scoped>\n",
       "    .dataframe tbody tr th:only-of-type {\n",
       "        vertical-align: middle;\n",
       "    }\n",
       "\n",
       "    .dataframe tbody tr th {\n",
       "        vertical-align: top;\n",
       "    }\n",
       "\n",
       "    .dataframe thead th {\n",
       "        text-align: right;\n",
       "    }\n",
       "</style>\n",
       "<table border=\"1\" class=\"dataframe\">\n",
       "  <thead>\n",
       "    <tr style=\"text-align: right;\">\n",
       "      <th></th>\n",
       "      <th>Company</th>\n",
       "      <th>Age</th>\n",
       "      <th>Share of respondents</th>\n",
       "      <th>Year</th>\n",
       "    </tr>\n",
       "  </thead>\n",
       "  <tbody>\n",
       "    <tr>\n",
       "      <td>0</td>\n",
       "      <td>Burger King</td>\n",
       "      <td>18-29 years</td>\n",
       "      <td>53.53</td>\n",
       "      <td>2018</td>\n",
       "    </tr>\n",
       "    <tr>\n",
       "      <td>1</td>\n",
       "      <td>Burger King</td>\n",
       "      <td>30-49 years</td>\n",
       "      <td>63.95</td>\n",
       "      <td>2018</td>\n",
       "    </tr>\n",
       "    <tr>\n",
       "      <td>2</td>\n",
       "      <td>Burger King</td>\n",
       "      <td>50-64 years</td>\n",
       "      <td>51.24</td>\n",
       "      <td>2018</td>\n",
       "    </tr>\n",
       "  </tbody>\n",
       "</table>\n",
       "</div>"
      ],
      "text/plain": [
       "       Company          Age  Share of respondents  Year\n",
       "0  Burger King  18-29 years                 53.53  2018\n",
       "1  Burger King  30-49 years                 63.95  2018\n",
       "2  Burger King  50-64 years                 51.24  2018"
      ]
     },
     "execution_count": 109,
     "metadata": {},
     "output_type": "execute_result"
    }
   ],
   "source": [
    "dfKing18"
   ]
  },
  {
   "cell_type": "code",
   "execution_count": 111,
   "metadata": {},
   "outputs": [],
   "source": [
    "import numpy as np\n",
    "dfKingpredict = pd.concat([dfKing , dfKing18])"
   ]
  },
  {
   "cell_type": "code",
   "execution_count": 112,
   "metadata": {},
   "outputs": [
    {
     "data": {
      "text/html": [
       "<div>\n",
       "<style scoped>\n",
       "    .dataframe tbody tr th:only-of-type {\n",
       "        vertical-align: middle;\n",
       "    }\n",
       "\n",
       "    .dataframe tbody tr th {\n",
       "        vertical-align: top;\n",
       "    }\n",
       "\n",
       "    .dataframe thead th {\n",
       "        text-align: right;\n",
       "    }\n",
       "</style>\n",
       "<table border=\"1\" class=\"dataframe\">\n",
       "  <thead>\n",
       "    <tr style=\"text-align: right;\">\n",
       "      <th></th>\n",
       "      <th>Company</th>\n",
       "      <th>Age</th>\n",
       "      <th>Share of respondents</th>\n",
       "      <th>Year</th>\n",
       "    </tr>\n",
       "  </thead>\n",
       "  <tbody>\n",
       "    <tr>\n",
       "      <td>0</td>\n",
       "      <td>Burger King</td>\n",
       "      <td>18-29 years</td>\n",
       "      <td>78.34</td>\n",
       "      <td>2017</td>\n",
       "    </tr>\n",
       "    <tr>\n",
       "      <td>1</td>\n",
       "      <td>Burger King</td>\n",
       "      <td>30-49 years</td>\n",
       "      <td>82.89</td>\n",
       "      <td>2017</td>\n",
       "    </tr>\n",
       "    <tr>\n",
       "      <td>2</td>\n",
       "      <td>Burger King</td>\n",
       "      <td>50-64 years</td>\n",
       "      <td>85.43</td>\n",
       "      <td>2017</td>\n",
       "    </tr>\n",
       "    <tr>\n",
       "      <td>0</td>\n",
       "      <td>Burger King</td>\n",
       "      <td>18-29 years</td>\n",
       "      <td>53.53</td>\n",
       "      <td>2018</td>\n",
       "    </tr>\n",
       "    <tr>\n",
       "      <td>1</td>\n",
       "      <td>Burger King</td>\n",
       "      <td>30-49 years</td>\n",
       "      <td>63.95</td>\n",
       "      <td>2018</td>\n",
       "    </tr>\n",
       "    <tr>\n",
       "      <td>2</td>\n",
       "      <td>Burger King</td>\n",
       "      <td>50-64 years</td>\n",
       "      <td>51.24</td>\n",
       "      <td>2018</td>\n",
       "    </tr>\n",
       "  </tbody>\n",
       "</table>\n",
       "</div>"
      ],
      "text/plain": [
       "       Company          Age  Share of respondents  Year\n",
       "0  Burger King  18-29 years                 78.34  2017\n",
       "1  Burger King  30-49 years                 82.89  2017\n",
       "2  Burger King  50-64 years                 85.43  2017\n",
       "0  Burger King  18-29 years                 53.53  2018\n",
       "1  Burger King  30-49 years                 63.95  2018\n",
       "2  Burger King  50-64 years                 51.24  2018"
      ]
     },
     "execution_count": 112,
     "metadata": {},
     "output_type": "execute_result"
    }
   ],
   "source": [
    "dfKingpredict"
   ]
  },
  {
   "cell_type": "code",
   "execution_count": 115,
   "metadata": {},
   "outputs": [
    {
     "name": "stdout",
     "output_type": "stream",
     "text": [
      "                               ARMA Model Results                               \n",
      "================================================================================\n",
      "Dep. Variable:     Share of respondents   No. Observations:                    6\n",
      "Model:                       ARMA(1, 0)   Log Likelihood                 -24.005\n",
      "Method:                         css-mle   S.D. of innovations             13.119\n",
      "Date:                  Wed, 18 Dec 2019   AIC                             54.010\n",
      "Time:                          20:15:41   BIC                             53.385\n",
      "Sample:                               0   HQIC                            51.509\n",
      "                                                                                \n",
      "==============================================================================================\n",
      "                                 coef    std err          z      P>|z|      [0.025      0.975]\n",
      "----------------------------------------------------------------------------------------------\n",
      "const                         68.6783      7.214      9.520      0.001      54.540      82.817\n",
      "ar.L1.Share of respondents     0.2986      0.429      0.696      0.525      -0.542       1.139\n",
      "                                    Roots                                    \n",
      "=============================================================================\n",
      "                  Real          Imaginary           Modulus         Frequency\n",
      "-----------------------------------------------------------------------------\n",
      "AR.1            3.3492           +0.0000j            3.3492            0.0000\n",
      "-----------------------------------------------------------------------------\n"
     ]
    },
    {
     "data": {
      "image/png": "[encoded data removed]",
      "text/plain": [
       "<Figure size 432x288 with 1 Axes>"
      ]
     },
     "metadata": {},
     "output_type": "display_data"
    },
    {
     "name": "stdout",
     "output_type": "stream",
     "text": [
      "               0\n",
      "count   6.000000\n",
      "mean   -0.480792\n",
      "std    14.419674\n",
      "min   -20.149935\n",
      "25%   -12.071255\n",
      "50%     4.728158\n",
      "75%    10.910649\n",
      "max    12.508446\n"
     ]
    }
   ],
   "source": [
    "from statsmodels.tsa.arima_model import ARIMA\n",
    "from pandas import DataFrame\n",
    "from matplotlib import pyplot\n",
    "#fit model\n",
    "model = ARIMA(dfKingpredict['Share of respondents'], order=(1,0,0))\n",
    "model_fit = model.fit(dis=0)\n",
    "print(model_fit.summary())\n",
    "#plot residual errors\n",
    "residuals = DataFrame(model_fit.resid)\n",
    "residuals.plot()\n",
    "pyplot.show()\n",
    "print(residuals.describe())"
   ]
  },
  {
   "cell_type": "code",
   "execution_count": 116,
   "metadata": {},
   "outputs": [],
   "source": [
    "from statsmodels.tsa.stattools import adfuller\n",
    "from statsmodels.tsa.seasonal import seasonal_decompose\n",
    "from statsmodels.tsa.arima_model import ARIMA"
   ]
  },
  {
   "cell_type": "code",
   "execution_count": 118,
   "metadata": {},
   "outputs": [],
   "source": [
    "dfKingpredict_1829 = dfKingpredict.iloc[[0,3]]"
   ]
  },
  {
   "cell_type": "code",
   "execution_count": 119,
   "metadata": {},
   "outputs": [],
   "source": [
    "dfKingpredict_1829 = dfKingpredict_1829.drop(['Age'], axis=1)"
   ]
  },
  {
   "cell_type": "code",
   "execution_count": 120,
   "metadata": {},
   "outputs": [
    {
     "data": {
      "text/html": [
       "<div>\n",
       "<style scoped>\n",
       "    .dataframe tbody tr th:only-of-type {\n",
       "        vertical-align: middle;\n",
       "    }\n",
       "\n",
       "    .dataframe tbody tr th {\n",
       "        vertical-align: top;\n",
       "    }\n",
       "\n",
       "    .dataframe thead th {\n",
       "        text-align: right;\n",
       "    }\n",
       "</style>\n",
       "<table border=\"1\" class=\"dataframe\">\n",
       "  <thead>\n",
       "    <tr style=\"text-align: right;\">\n",
       "      <th></th>\n",
       "      <th>Company</th>\n",
       "      <th>Share of respondents</th>\n",
       "      <th>Year</th>\n",
       "    </tr>\n",
       "  </thead>\n",
       "  <tbody>\n",
       "    <tr>\n",
       "      <td>0</td>\n",
       "      <td>Burger King</td>\n",
       "      <td>78.34</td>\n",
       "      <td>2017</td>\n",
       "    </tr>\n",
       "    <tr>\n",
       "      <td>0</td>\n",
       "      <td>Burger King</td>\n",
       "      <td>53.53</td>\n",
       "      <td>2018</td>\n",
       "    </tr>\n",
       "  </tbody>\n",
       "</table>\n",
       "</div>"
      ],
      "text/plain": [
       "       Company  Share of respondents  Year\n",
       "0  Burger King                 78.34  2017\n",
       "0  Burger King                 53.53  2018"
      ]
     },
     "execution_count": 120,
     "metadata": {},
     "output_type": "execute_result"
    }
   ],
   "source": [
    "dfKingpredict_1829"
   ]
  },
  {
   "cell_type": "code",
   "execution_count": 121,
   "metadata": {},
   "outputs": [
    {
     "name": "stdout",
     "output_type": "stream",
     "text": [
      "Predicted=4.542679\n"
     ]
    }
   ],
   "source": [
    "from statsmodels.tsa.arima_model import ARIMA\n",
    "\n",
    "def StartARIMAForecasting(Actual, P, D, Q):\n",
    "    model = ARIMA(Actual, order=(P, D, Q))\n",
    "    model_fit = model.fit(disp=0)\n",
    "    prediction = model_fit.forecast()[0]\n",
    "    return prediction\n",
    "\n",
    "data = [1,1.5,2,4]\n",
    "\n",
    "predicted = StartARIMAForecasting(data, 1,1,0)\n",
    "\n",
    "print('Predicted=%f' % (predicted))"
   ]
  },
  {
   "cell_type": "code",
   "execution_count": 123,
   "metadata": {},
   "outputs": [
    {
     "data": {
      "text/plain": [
       "[78.34, 53.53]"
      ]
     },
     "execution_count": 123,
     "metadata": {},
     "output_type": "execute_result"
    }
   ],
   "source": [
    "list(dfKingpredict_1829['Share of respondents'])"
   ]
  },
  {
   "cell_type": "code",
   "execution_count": 124,
   "metadata": {},
   "outputs": [
    {
     "ename": "AttributeError",
     "evalue": "'Int64Index' object has no attribute 'inferred_freq'",
     "output_type": "error",
     "traceback": [
      "\u001b[1;31m---------------------------------------------------------------------------\u001b[0m",
      "\u001b[1;31mAttributeError\u001b[0m                            Traceback (most recent call last)",
      "\u001b[1;32m<ipython-input-124-1dddf60fb8b5>\u001b[0m in \u001b[0;36m<module>\u001b[1;34m\u001b[0m\n\u001b[1;32m----> 1\u001b[1;33m \u001b[0mdecomposition\u001b[0m \u001b[1;33m=\u001b[0m \u001b[0mseasonal_decompose\u001b[0m\u001b[1;33m(\u001b[0m\u001b[0mdfKingpredict_1829\u001b[0m\u001b[1;33m)\u001b[0m\u001b[1;33m\u001b[0m\u001b[1;33m\u001b[0m\u001b[0m\n\u001b[0m\u001b[0;32m      2\u001b[0m \u001b[0mmodel\u001b[0m \u001b[1;33m=\u001b[0m \u001b[0mARIMA\u001b[0m\u001b[1;33m(\u001b[0m\u001b[0mdfKingpredict\u001b[0m\u001b[1;33m,\u001b[0m \u001b[0morder\u001b[0m\u001b[1;33m=\u001b[0m\u001b[1;33m(\u001b[0m\u001b[1;36m2\u001b[0m\u001b[1;33m,\u001b[0m\u001b[1;36m1\u001b[0m\u001b[1;33m,\u001b[0m\u001b[1;36m2\u001b[0m\u001b[1;33m)\u001b[0m\u001b[1;33m)\u001b[0m\u001b[1;33m\u001b[0m\u001b[1;33m\u001b[0m\u001b[0m\n\u001b[0;32m      3\u001b[0m \u001b[0mresults\u001b[0m \u001b[1;33m=\u001b[0m \u001b[0mmodel\u001b[0m\u001b[1;33m.\u001b[0m\u001b[0mfit\u001b[0m\u001b[1;33m(\u001b[0m\u001b[0mdisp\u001b[0m\u001b[1;33m=\u001b[0m\u001b[1;33m-\u001b[0m\u001b[1;36m1\u001b[0m\u001b[1;33m)\u001b[0m\u001b[1;33m\u001b[0m\u001b[1;33m\u001b[0m\u001b[0m\n\u001b[0;32m      4\u001b[0m \u001b[0mplt\u001b[0m\u001b[1;33m.\u001b[0m\u001b[0mplot\u001b[0m\u001b[1;33m(\u001b[0m\u001b[0mdf_log_shift\u001b[0m\u001b[1;33m)\u001b[0m\u001b[1;33m\u001b[0m\u001b[1;33m\u001b[0m\u001b[0m\n\u001b[0;32m      5\u001b[0m \u001b[0mplt\u001b[0m\u001b[1;33m.\u001b[0m\u001b[0mplot\u001b[0m\u001b[1;33m(\u001b[0m\u001b[0mresults\u001b[0m\u001b[1;33m.\u001b[0m\u001b[0mfittedvalues\u001b[0m\u001b[1;33m,\u001b[0m \u001b[0mcolor\u001b[0m\u001b[1;33m=\u001b[0m\u001b[1;34m'red'\u001b[0m\u001b[1;33m)\u001b[0m\u001b[1;33m\u001b[0m\u001b[1;33m\u001b[0m\u001b[0m\n",
      "\u001b[1;32m~\\Anaconda3\\lib\\site-packages\\statsmodels\\tsa\\seasonal.py\u001b[0m in \u001b[0;36mseasonal_decompose\u001b[1;34m(x, model, filt, freq, two_sided, extrapolate_trend)\u001b[0m\n\u001b[0;32m    106\u001b[0m     \"\"\"\n\u001b[0;32m    107\u001b[0m     \u001b[1;32mif\u001b[0m \u001b[0mfreq\u001b[0m \u001b[1;32mis\u001b[0m \u001b[1;32mNone\u001b[0m\u001b[1;33m:\u001b[0m\u001b[1;33m\u001b[0m\u001b[1;33m\u001b[0m\u001b[0m\n\u001b[1;32m--> 108\u001b[1;33m         \u001b[0m_pandas_wrapper\u001b[0m\u001b[1;33m,\u001b[0m \u001b[0mpfreq\u001b[0m \u001b[1;33m=\u001b[0m \u001b[0m_maybe_get_pandas_wrapper_freq\u001b[0m\u001b[1;33m(\u001b[0m\u001b[0mx\u001b[0m\u001b[1;33m)\u001b[0m\u001b[1;33m\u001b[0m\u001b[1;33m\u001b[0m\u001b[0m\n\u001b[0m\u001b[0;32m    109\u001b[0m     \u001b[1;32melse\u001b[0m\u001b[1;33m:\u001b[0m\u001b[1;33m\u001b[0m\u001b[1;33m\u001b[0m\u001b[0m\n\u001b[0;32m    110\u001b[0m         \u001b[0m_pandas_wrapper\u001b[0m \u001b[1;33m=\u001b[0m \u001b[0m_maybe_get_pandas_wrapper\u001b[0m\u001b[1;33m(\u001b[0m\u001b[0mx\u001b[0m\u001b[1;33m)\u001b[0m\u001b[1;33m\u001b[0m\u001b[1;33m\u001b[0m\u001b[0m\n",
      "\u001b[1;32m~\\Anaconda3\\lib\\site-packages\\statsmodels\\tsa\\filters\\_utils.py\u001b[0m in \u001b[0;36m_maybe_get_pandas_wrapper_freq\u001b[1;34m(X, trim)\u001b[0m\n\u001b[0;32m     46\u001b[0m         \u001b[0mindex\u001b[0m \u001b[1;33m=\u001b[0m \u001b[0mX\u001b[0m\u001b[1;33m.\u001b[0m\u001b[0mindex\u001b[0m\u001b[1;33m\u001b[0m\u001b[1;33m\u001b[0m\u001b[0m\n\u001b[0;32m     47\u001b[0m         \u001b[0mfunc\u001b[0m \u001b[1;33m=\u001b[0m \u001b[0m_get_pandas_wrapper\u001b[0m\u001b[1;33m(\u001b[0m\u001b[0mX\u001b[0m\u001b[1;33m,\u001b[0m \u001b[0mtrim\u001b[0m\u001b[1;33m)\u001b[0m\u001b[1;33m\u001b[0m\u001b[1;33m\u001b[0m\u001b[0m\n\u001b[1;32m---> 48\u001b[1;33m         \u001b[0mfreq\u001b[0m \u001b[1;33m=\u001b[0m \u001b[0mindex\u001b[0m\u001b[1;33m.\u001b[0m\u001b[0minferred_freq\u001b[0m\u001b[1;33m\u001b[0m\u001b[1;33m\u001b[0m\u001b[0m\n\u001b[0m\u001b[0;32m     49\u001b[0m         \u001b[1;32mreturn\u001b[0m \u001b[0mfunc\u001b[0m\u001b[1;33m,\u001b[0m \u001b[0mfreq\u001b[0m\u001b[1;33m\u001b[0m\u001b[1;33m\u001b[0m\u001b[0m\n\u001b[0;32m     50\u001b[0m     \u001b[1;32melse\u001b[0m\u001b[1;33m:\u001b[0m\u001b[1;33m\u001b[0m\u001b[1;33m\u001b[0m\u001b[0m\n",
      "\u001b[1;31mAttributeError\u001b[0m: 'Int64Index' object has no attribute 'inferred_freq'"
     ]
    }
   ],
   "source": [
    "decomposition = seasonal_decompose(dfKingpredict_1829) \n",
    "model = ARIMA(dfKingpredict, order=(2,1,2))\n",
    "results = model.fit(disp=-1)\n",
    "plt.plot(df_log_shift)\n",
    "plt.plot(results.fittedvalues, color='red')"
   ]
  },
  {
   "cell_type": "markdown",
   "metadata": {},
   "source": [
    "<b>NEGATIVE RESULT(FAILED ATTEMPT):</b>This attempt failed. There should be atleast 4 years data for this ARIMA algorithm which is a time based prediction to work. We tried finding the data online for 2016 and 2015 and the previous years but there was no dataset that could match up with what we wanted."
   ]
  },
  {
   "cell_type": "markdown",
   "metadata": {},
   "source": [
    "We tried some other algorithms and different ways of doing the prediction such as consodering the share of respondents and predicting the total customers a company can expect. But, due to the lack of data, the prediction models did not work properly."
   ]
  },
  {
   "cell_type": "code",
   "execution_count": null,
   "metadata": {},
   "outputs": [],
   "source": []
  }
 ],
 "metadata": {
  "kernelspec": {
   "display_name": "Python 3",
   "language": "python",
   "name": "python3"
  },
  "language_info": {
   "codemirror_mode": {
    "name": "ipython",
    "version": 3
   },
   "file_extension": ".py",
   "mimetype": "text/x-python",
   "name": "python",
   "nbconvert_exporter": "python",
   "pygments_lexer": "ipython3",
   "version": "3.7.3"
  }
 },
 "nbformat": 4,
 "nbformat_minor": 2
}
