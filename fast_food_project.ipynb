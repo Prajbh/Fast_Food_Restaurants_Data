{
 "cells": [
  {
   "cell_type": "code",
   "execution_count": 3,
   "metadata": {},
   "outputs": [],
   "source": [
    "import pandas as pd"
   ]
  },
  {
   "cell_type": "code",
   "execution_count": 83,
   "metadata": {},
   "outputs": [],
   "source": [
    "df = pd.read_csv(\"C:/Users/humakausar.saudagar/Downloads/sale-2017.csv\")\n",
    "%matplotlib inline\n",
    "import matplotlib\n",
    "\n"
   ]
  },
  {
   "cell_type": "code",
   "execution_count": 84,
   "metadata": {},
   "outputs": [
    {
     "data": {
      "image/png": "[encoded data removed]",
      "text/plain": [
       "<Figure size 3240x432 with 1 Axes>"
      ]
     },
     "metadata": {
      "needs_background": "light"
     },
     "output_type": "display_data"
    }
   ],
   "source": [
    "import matplotlib.pyplot as plt\n",
    "\n",
    "plt.figure(figsize=(45, 6))\n",
    "plt.subplot(131)\n",
    "plt.bar(df['Company'], df['Sales in billion U.S. dollars'],facecolor='olive')\n",
    "plt.ylabel('Sales in billion')\n",
    "plt.show()"
   ]
  },
  {
   "cell_type": "code",
   "execution_count": 85,
   "metadata": {},
   "outputs": [],
   "source": [
    "df17 = pd.read_csv(\"C:/Users/humakausar.saudagar/Downloads/dataset/People-who-visit-restaurants-in-the-us-2017-by-age.csv\")\n",
    "df18 = pd.read_csv(\"C:/Users/humakausar.saudagar/Downloads/dataset/People-who-visit-restaurants-in-the-us-2018-by-age.csv\")"
   ]
  },
  {
   "cell_type": "code",
   "execution_count": 8,
   "metadata": {},
   "outputs": [
    {
     "data": {
      "text/plain": [
       "array(['18 - 29 years', '30 - 49 years', '50 - 64 years', '18-29 years',\n",
       "       '30-49 years', '50-64 years'], dtype=object)"
      ]
     },
     "execution_count": 8,
     "metadata": {},
     "output_type": "execute_result"
    }
   ],
   "source": [
    "df18['Age'].unique()"
   ]
  },
  {
   "cell_type": "code",
   "execution_count": 9,
   "metadata": {},
   "outputs": [
    {
     "data": {
      "text/plain": [
       "array(['18-29 years', '30-49 years', '50-64 years'], dtype=object)"
      ]
     },
     "execution_count": 9,
     "metadata": {},
     "output_type": "execute_result"
    }
   ],
   "source": [
    "df18['Age'] = df18['Age'].replace(['18 - 29 years', '30 - 49 years', '50 - 64 years'], ['18-29 years', '30-49 years', '50-64 years'])\n",
    "df18['Age'].unique()"
   ]
  },
  {
   "cell_type": "code",
   "execution_count": 10,
   "metadata": {},
   "outputs": [
    {
     "data": {
      "text/plain": [
       "array(['18-29 years', '30-49 years', '50-64 years'], dtype=object)"
      ]
     },
     "execution_count": 10,
     "metadata": {},
     "output_type": "execute_result"
    }
   ],
   "source": [
    "df17['Age'].unique()\n",
    "df17['Age'] = df17['Age'].replace(['18 - 29 years', '30 - 49 years', '50 - 64 years'], ['18-29 years', '30-49 years', '50-64 years'])\n",
    "df17['Age'].unique()"
   ]
  },
  {
   "cell_type": "code",
   "execution_count": 11,
   "metadata": {},
   "outputs": [
    {
     "data": {
      "text/html": [
       "<div>\n",
       "<style scoped>\n",
       "    .dataframe tbody tr th:only-of-type {\n",
       "        vertical-align: middle;\n",
       "    }\n",
       "\n",
       "    .dataframe tbody tr th {\n",
       "        vertical-align: top;\n",
       "    }\n",
       "\n",
       "    .dataframe thead th {\n",
       "        text-align: right;\n",
       "    }\n",
       "</style>\n",
       "<table border=\"1\" class=\"dataframe\">\n",
       "  <thead>\n",
       "    <tr style=\"text-align: right;\">\n",
       "      <th></th>\n",
       "      <th>Company</th>\n",
       "      <th>Age</th>\n",
       "      <th>Share of respondents</th>\n",
       "      <th>Year</th>\n",
       "      <th>Country</th>\n",
       "    </tr>\n",
       "  </thead>\n",
       "  <tbody>\n",
       "    <tr>\n",
       "      <th>0</th>\n",
       "      <td>Burger King</td>\n",
       "      <td>18-29 years</td>\n",
       "      <td>78.34</td>\n",
       "      <td>2017</td>\n",
       "      <td>US</td>\n",
       "    </tr>\n",
       "    <tr>\n",
       "      <th>1</th>\n",
       "      <td>Burger King</td>\n",
       "      <td>30-49 years</td>\n",
       "      <td>82.89</td>\n",
       "      <td>2017</td>\n",
       "      <td>US</td>\n",
       "    </tr>\n",
       "    <tr>\n",
       "      <th>2</th>\n",
       "      <td>Burger King</td>\n",
       "      <td>50-64 years</td>\n",
       "      <td>85.43</td>\n",
       "      <td>2017</td>\n",
       "      <td>US</td>\n",
       "    </tr>\n",
       "    <tr>\n",
       "      <th>3</th>\n",
       "      <td>Dunkin' Donuts</td>\n",
       "      <td>18-29 years</td>\n",
       "      <td>57.73</td>\n",
       "      <td>2017</td>\n",
       "      <td>US</td>\n",
       "    </tr>\n",
       "    <tr>\n",
       "      <th>4</th>\n",
       "      <td>Dunkin' Donuts</td>\n",
       "      <td>30-49 years</td>\n",
       "      <td>49.72</td>\n",
       "      <td>2017</td>\n",
       "      <td>US</td>\n",
       "    </tr>\n",
       "    <tr>\n",
       "      <th>5</th>\n",
       "      <td>Dunkin' Donuts</td>\n",
       "      <td>50-64 years</td>\n",
       "      <td>46.29</td>\n",
       "      <td>2017</td>\n",
       "      <td>US</td>\n",
       "    </tr>\n",
       "    <tr>\n",
       "      <th>6</th>\n",
       "      <td>Arby's</td>\n",
       "      <td>18-29 years</td>\n",
       "      <td>65.98</td>\n",
       "      <td>2017</td>\n",
       "      <td>US</td>\n",
       "    </tr>\n",
       "    <tr>\n",
       "      <th>7</th>\n",
       "      <td>Arby's</td>\n",
       "      <td>30-49 years</td>\n",
       "      <td>68.90</td>\n",
       "      <td>2017</td>\n",
       "      <td>US</td>\n",
       "    </tr>\n",
       "    <tr>\n",
       "      <th>8</th>\n",
       "      <td>Arby's</td>\n",
       "      <td>50-64 years</td>\n",
       "      <td>71.92</td>\n",
       "      <td>2017</td>\n",
       "      <td>US</td>\n",
       "    </tr>\n",
       "    <tr>\n",
       "      <th>9</th>\n",
       "      <td>KFC</td>\n",
       "      <td>18-29 years</td>\n",
       "      <td>82.11</td>\n",
       "      <td>2017</td>\n",
       "      <td>US</td>\n",
       "    </tr>\n",
       "  </tbody>\n",
       "</table>\n",
       "</div>"
      ],
      "text/plain": [
       "          Company          Age  Share of respondents  Year Country\n",
       "0     Burger King  18-29 years                 78.34  2017      US\n",
       "1     Burger King  30-49 years                 82.89  2017      US\n",
       "2     Burger King  50-64 years                 85.43  2017      US\n",
       "3  Dunkin' Donuts  18-29 years                 57.73  2017      US\n",
       "4  Dunkin' Donuts  30-49 years                 49.72  2017      US\n",
       "5  Dunkin' Donuts  50-64 years                 46.29  2017      US\n",
       "6          Arby's  18-29 years                 65.98  2017      US\n",
       "7          Arby's  30-49 years                 68.90  2017      US\n",
       "8          Arby's  50-64 years                 71.92  2017      US\n",
       "9             KFC  18-29 years                 82.11  2017      US"
      ]
     },
     "execution_count": 11,
     "metadata": {},
     "output_type": "execute_result"
    }
   ],
   "source": [
    "df17.head(10)"
   ]
  },
  {
   "cell_type": "code",
   "execution_count": 12,
   "metadata": {},
   "outputs": [
    {
     "data": {
      "text/html": [
       "<div>\n",
       "<style scoped>\n",
       "    .dataframe tbody tr th:only-of-type {\n",
       "        vertical-align: middle;\n",
       "    }\n",
       "\n",
       "    .dataframe tbody tr th {\n",
       "        vertical-align: top;\n",
       "    }\n",
       "\n",
       "    .dataframe thead th {\n",
       "        text-align: right;\n",
       "    }\n",
       "</style>\n",
       "<table border=\"1\" class=\"dataframe\">\n",
       "  <thead>\n",
       "    <tr style=\"text-align: right;\">\n",
       "      <th></th>\n",
       "      <th>Company</th>\n",
       "      <th>Age</th>\n",
       "      <th>Share of respondents</th>\n",
       "      <th>Year</th>\n",
       "    </tr>\n",
       "  </thead>\n",
       "  <tbody>\n",
       "    <tr>\n",
       "      <th>0</th>\n",
       "      <td>Burger King</td>\n",
       "      <td>18-29 years</td>\n",
       "      <td>78.34</td>\n",
       "      <td>2017</td>\n",
       "    </tr>\n",
       "    <tr>\n",
       "      <th>1</th>\n",
       "      <td>Burger King</td>\n",
       "      <td>30-49 years</td>\n",
       "      <td>82.89</td>\n",
       "      <td>2017</td>\n",
       "    </tr>\n",
       "    <tr>\n",
       "      <th>2</th>\n",
       "      <td>Burger King</td>\n",
       "      <td>50-64 years</td>\n",
       "      <td>85.43</td>\n",
       "      <td>2017</td>\n",
       "    </tr>\n",
       "    <tr>\n",
       "      <th>3</th>\n",
       "      <td>Dunkin' Donuts</td>\n",
       "      <td>18-29 years</td>\n",
       "      <td>57.73</td>\n",
       "      <td>2017</td>\n",
       "    </tr>\n",
       "    <tr>\n",
       "      <th>4</th>\n",
       "      <td>Dunkin' Donuts</td>\n",
       "      <td>30-49 years</td>\n",
       "      <td>49.72</td>\n",
       "      <td>2017</td>\n",
       "    </tr>\n",
       "    <tr>\n",
       "      <th>5</th>\n",
       "      <td>Dunkin' Donuts</td>\n",
       "      <td>50-64 years</td>\n",
       "      <td>46.29</td>\n",
       "      <td>2017</td>\n",
       "    </tr>\n",
       "    <tr>\n",
       "      <th>6</th>\n",
       "      <td>Arby's</td>\n",
       "      <td>18-29 years</td>\n",
       "      <td>65.98</td>\n",
       "      <td>2017</td>\n",
       "    </tr>\n",
       "    <tr>\n",
       "      <th>7</th>\n",
       "      <td>Arby's</td>\n",
       "      <td>30-49 years</td>\n",
       "      <td>68.90</td>\n",
       "      <td>2017</td>\n",
       "    </tr>\n",
       "    <tr>\n",
       "      <th>8</th>\n",
       "      <td>Arby's</td>\n",
       "      <td>50-64 years</td>\n",
       "      <td>71.92</td>\n",
       "      <td>2017</td>\n",
       "    </tr>\n",
       "    <tr>\n",
       "      <th>9</th>\n",
       "      <td>KFC</td>\n",
       "      <td>18-29 years</td>\n",
       "      <td>82.11</td>\n",
       "      <td>2017</td>\n",
       "    </tr>\n",
       "  </tbody>\n",
       "</table>\n",
       "</div>"
      ],
      "text/plain": [
       "          Company          Age  Share of respondents  Year\n",
       "0     Burger King  18-29 years                 78.34  2017\n",
       "1     Burger King  30-49 years                 82.89  2017\n",
       "2     Burger King  50-64 years                 85.43  2017\n",
       "3  Dunkin' Donuts  18-29 years                 57.73  2017\n",
       "4  Dunkin' Donuts  30-49 years                 49.72  2017\n",
       "5  Dunkin' Donuts  50-64 years                 46.29  2017\n",
       "6          Arby's  18-29 years                 65.98  2017\n",
       "7          Arby's  30-49 years                 68.90  2017\n",
       "8          Arby's  50-64 years                 71.92  2017\n",
       "9             KFC  18-29 years                 82.11  2017"
      ]
     },
     "execution_count": 12,
     "metadata": {},
     "output_type": "execute_result"
    }
   ],
   "source": [
    "df17=df17.drop(columns=['Country'])\n",
    "df18=df18.drop(columns=['Country'])\n",
    "df17.head(10)"
   ]
  },
  {
   "cell_type": "code",
   "execution_count": 13,
   "metadata": {},
   "outputs": [],
   "source": [
    "\n",
    "\n",
    "indexNames = df17[ df17['Company'] == 'KFC' ].index\n",
    " \n",
    "# Delete these row indexes from dataFrame\n",
    "df17.drop(indexNames , inplace=True)"
   ]
  },
  {
   "cell_type": "code",
   "execution_count": 14,
   "metadata": {},
   "outputs": [],
   "source": [
    "indexNames = df18[ df18['Company'] == 'KFC' ].index\n",
    " \n",
    "# Delete these row indexes from dataFrame\n",
    "df18.drop(indexNames , inplace=True)"
   ]
  },
  {
   "cell_type": "code",
   "execution_count": 15,
   "metadata": {},
   "outputs": [],
   "source": [
    "\n",
    "indexNames = df17[ df17['Company'] == 'Papa John\\'s' ].index\n",
    " \n",
    "# Delete these row indexes from dataFrame\n",
    "df17.drop(indexNames , inplace=True)"
   ]
  },
  {
   "cell_type": "code",
   "execution_count": 16,
   "metadata": {},
   "outputs": [],
   "source": [
    "indexNames = df18[ df18['Company'] == 'Papa John\\'s' ].index\n",
    " \n",
    "# Delete these row indexes from dataFrame\n",
    "df18.drop(indexNames , inplace=True)"
   ]
  },
  {
   "cell_type": "code",
   "execution_count": 17,
   "metadata": {},
   "outputs": [],
   "source": [
    "indexNames = df17[ df17['Company'] == 'Chipotle Mexican Grill' ].index\n",
    " \n",
    "# Delete these row indexes from dataFrame\n",
    "df17.drop(indexNames , inplace=True)"
   ]
  },
  {
   "cell_type": "code",
   "execution_count": 18,
   "metadata": {},
   "outputs": [],
   "source": [
    "indexNames = df18[ df18['Company'] == 'Chipotle Mexican Grill' ].index\n",
    " \n",
    "# Delete these row indexes from dataFrame\n",
    "df18.drop(indexNames , inplace=True)"
   ]
  },
  {
   "cell_type": "code",
   "execution_count": 19,
   "metadata": {},
   "outputs": [],
   "source": [
    "indexNames = df17[ df17['Company'] == 'Little Caesars' ].index\n",
    " \n",
    "# Delete these row indexes from dataFrame\n",
    "df17.drop(indexNames , inplace=True)"
   ]
  },
  {
   "cell_type": "code",
   "execution_count": 20,
   "metadata": {},
   "outputs": [],
   "source": [
    "indexNames = df18[ df18['Company'] == 'Little Caesars' ].index\n",
    " \n",
    "# Delete these row indexes from dataFrame\n",
    "df18.drop(indexNames , inplace=True)"
   ]
  },
  {
   "cell_type": "code",
   "execution_count": 21,
   "metadata": {},
   "outputs": [],
   "source": [
    "indexNames = df17[ df17['Company'] == 'Jack in the Box' ].index\n",
    " \n",
    "# Delete these row indexes from dataFrame\n",
    "df17.drop(indexNames , inplace=True)"
   ]
  },
  {
   "cell_type": "code",
   "execution_count": 22,
   "metadata": {},
   "outputs": [],
   "source": [
    "indexNames = df18[ df18['Company'] == 'Jack in the Box' ].index\n",
    " \n",
    "# Delete these row indexes from dataFrame\n",
    "df18.drop(indexNames , inplace=True)"
   ]
  },
  {
   "cell_type": "code",
   "execution_count": 23,
   "metadata": {},
   "outputs": [],
   "source": [
    "indexNames = df17[ df17['Company'] == 'Panera Bread' ].index\n",
    " \n",
    "# Delete these row indexes from dataFrame\n",
    "df17.drop(indexNames , inplace=True)"
   ]
  },
  {
   "cell_type": "code",
   "execution_count": null,
   "metadata": {},
   "outputs": [],
   "source": []
  },
  {
   "cell_type": "code",
   "execution_count": 24,
   "metadata": {},
   "outputs": [],
   "source": [
    "indexNames = df18[ df18['Company'] == 'Panera Bread' ].index\n",
    " \n",
    "# Delete these row indexes from dataFrame\n",
    "df18.drop(indexNames , inplace=True)"
   ]
  },
  {
   "cell_type": "code",
   "execution_count": 25,
   "metadata": {},
   "outputs": [],
   "source": [
    "indexNames = df17[ df17['Company'] == 'Arby\\'s' ].index\n",
    " \n",
    "# Delete these row indexes from dataFrame\n",
    "df17.drop(indexNames , inplace=True)"
   ]
  },
  {
   "cell_type": "code",
   "execution_count": 26,
   "metadata": {},
   "outputs": [],
   "source": [
    "indexNames = df18[ df18['Company'] == 'Arby\\'s' ].index\n",
    " \n",
    "# Delete these row indexes from dataFrame\n",
    "df18.drop(indexNames , inplace=True)"
   ]
  },
  {
   "cell_type": "code",
   "execution_count": 27,
   "metadata": {},
   "outputs": [
    {
     "data": {
      "text/plain": [
       "Company                  object\n",
       "Age                      object\n",
       "Share of respondents    float64\n",
       "Year                      int64\n",
       "dtype: object"
      ]
     },
     "execution_count": 27,
     "metadata": {},
     "output_type": "execute_result"
    }
   ],
   "source": [
    "df18.loc[df18['Age'] == '18-29 years']\n",
    "df17.dtypes"
   ]
  },
  {
   "cell_type": "code",
   "execution_count": 28,
   "metadata": {},
   "outputs": [
    {
     "data": {
      "text/html": [
       "<div>\n",
       "<style scoped>\n",
       "    .dataframe tbody tr th:only-of-type {\n",
       "        vertical-align: middle;\n",
       "    }\n",
       "\n",
       "    .dataframe tbody tr th {\n",
       "        vertical-align: top;\n",
       "    }\n",
       "\n",
       "    .dataframe thead th {\n",
       "        text-align: right;\n",
       "    }\n",
       "</style>\n",
       "<table border=\"1\" class=\"dataframe\">\n",
       "  <thead>\n",
       "    <tr style=\"text-align: right;\">\n",
       "      <th></th>\n",
       "      <th>Company</th>\n",
       "      <th>Age</th>\n",
       "      <th>Share of respondents</th>\n",
       "      <th>Year</th>\n",
       "    </tr>\n",
       "  </thead>\n",
       "  <tbody>\n",
       "    <tr>\n",
       "      <th>0</th>\n",
       "      <td>Burger King</td>\n",
       "      <td>18-29 years</td>\n",
       "      <td>78.34</td>\n",
       "      <td>2017</td>\n",
       "    </tr>\n",
       "    <tr>\n",
       "      <th>1</th>\n",
       "      <td>Burger King</td>\n",
       "      <td>30-49 years</td>\n",
       "      <td>82.89</td>\n",
       "      <td>2017</td>\n",
       "    </tr>\n",
       "    <tr>\n",
       "      <th>2</th>\n",
       "      <td>Burger King</td>\n",
       "      <td>50-64 years</td>\n",
       "      <td>85.43</td>\n",
       "      <td>2017</td>\n",
       "    </tr>\n",
       "    <tr>\n",
       "      <th>3</th>\n",
       "      <td>Dunkin' Donuts</td>\n",
       "      <td>18-29 years</td>\n",
       "      <td>57.73</td>\n",
       "      <td>2017</td>\n",
       "    </tr>\n",
       "    <tr>\n",
       "      <th>4</th>\n",
       "      <td>Dunkin' Donuts</td>\n",
       "      <td>30-49 years</td>\n",
       "      <td>49.72</td>\n",
       "      <td>2017</td>\n",
       "    </tr>\n",
       "    <tr>\n",
       "      <th>5</th>\n",
       "      <td>Dunkin' Donuts</td>\n",
       "      <td>50-64 years</td>\n",
       "      <td>46.29</td>\n",
       "      <td>2017</td>\n",
       "    </tr>\n",
       "    <tr>\n",
       "      <th>12</th>\n",
       "      <td>McDonald's</td>\n",
       "      <td>18-29 years</td>\n",
       "      <td>82.12</td>\n",
       "      <td>2017</td>\n",
       "    </tr>\n",
       "    <tr>\n",
       "      <th>13</th>\n",
       "      <td>McDonald's</td>\n",
       "      <td>30-49 years</td>\n",
       "      <td>89.99</td>\n",
       "      <td>2017</td>\n",
       "    </tr>\n",
       "    <tr>\n",
       "      <th>14</th>\n",
       "      <td>McDonald's</td>\n",
       "      <td>50-64 years</td>\n",
       "      <td>91.08</td>\n",
       "      <td>2017</td>\n",
       "    </tr>\n",
       "    <tr>\n",
       "      <th>15</th>\n",
       "      <td>Subway</td>\n",
       "      <td>18-29 years</td>\n",
       "      <td>93.73</td>\n",
       "      <td>2017</td>\n",
       "    </tr>\n",
       "    <tr>\n",
       "      <th>16</th>\n",
       "      <td>Subway</td>\n",
       "      <td>30-49 years</td>\n",
       "      <td>94.34</td>\n",
       "      <td>2017</td>\n",
       "    </tr>\n",
       "    <tr>\n",
       "      <th>17</th>\n",
       "      <td>Subway</td>\n",
       "      <td>50-64 years</td>\n",
       "      <td>90.12</td>\n",
       "      <td>2017</td>\n",
       "    </tr>\n",
       "    <tr>\n",
       "      <th>18</th>\n",
       "      <td>Wendy's</td>\n",
       "      <td>18-29 years</td>\n",
       "      <td>88.64</td>\n",
       "      <td>2017</td>\n",
       "    </tr>\n",
       "    <tr>\n",
       "      <th>19</th>\n",
       "      <td>Wendy's</td>\n",
       "      <td>30-49 years</td>\n",
       "      <td>87.26</td>\n",
       "      <td>2017</td>\n",
       "    </tr>\n",
       "    <tr>\n",
       "      <th>20</th>\n",
       "      <td>Wendy's</td>\n",
       "      <td>50-64 years</td>\n",
       "      <td>83.29</td>\n",
       "      <td>2017</td>\n",
       "    </tr>\n",
       "    <tr>\n",
       "      <th>21</th>\n",
       "      <td>Pizza Hut</td>\n",
       "      <td>18-29 years</td>\n",
       "      <td>97.56</td>\n",
       "      <td>2017</td>\n",
       "    </tr>\n",
       "    <tr>\n",
       "      <th>22</th>\n",
       "      <td>Pizza Hut</td>\n",
       "      <td>30-49 years</td>\n",
       "      <td>94.31</td>\n",
       "      <td>2017</td>\n",
       "    </tr>\n",
       "    <tr>\n",
       "      <th>23</th>\n",
       "      <td>Pizza Hut</td>\n",
       "      <td>50-64 years</td>\n",
       "      <td>92.12</td>\n",
       "      <td>2017</td>\n",
       "    </tr>\n",
       "    <tr>\n",
       "      <th>24</th>\n",
       "      <td>Chick-fil-A</td>\n",
       "      <td>18-29 years</td>\n",
       "      <td>74.32</td>\n",
       "      <td>2017</td>\n",
       "    </tr>\n",
       "    <tr>\n",
       "      <th>25</th>\n",
       "      <td>Chick-fil-A</td>\n",
       "      <td>30-49 years</td>\n",
       "      <td>69.45</td>\n",
       "      <td>2017</td>\n",
       "    </tr>\n",
       "    <tr>\n",
       "      <th>26</th>\n",
       "      <td>Chick-fil-A</td>\n",
       "      <td>50-64 years</td>\n",
       "      <td>71.26</td>\n",
       "      <td>2017</td>\n",
       "    </tr>\n",
       "    <tr>\n",
       "      <th>36</th>\n",
       "      <td>Domino's</td>\n",
       "      <td>18-29 years</td>\n",
       "      <td>93.65</td>\n",
       "      <td>2017</td>\n",
       "    </tr>\n",
       "    <tr>\n",
       "      <th>37</th>\n",
       "      <td>Domino's</td>\n",
       "      <td>30-49 years</td>\n",
       "      <td>96.11</td>\n",
       "      <td>2017</td>\n",
       "    </tr>\n",
       "    <tr>\n",
       "      <th>38</th>\n",
       "      <td>Domino's</td>\n",
       "      <td>50-64 years</td>\n",
       "      <td>97.39</td>\n",
       "      <td>2017</td>\n",
       "    </tr>\n",
       "    <tr>\n",
       "      <th>39</th>\n",
       "      <td>Starbucks</td>\n",
       "      <td>18-29 years</td>\n",
       "      <td>85.19</td>\n",
       "      <td>2017</td>\n",
       "    </tr>\n",
       "    <tr>\n",
       "      <th>40</th>\n",
       "      <td>Starbucks</td>\n",
       "      <td>30-49 years</td>\n",
       "      <td>86.28</td>\n",
       "      <td>2017</td>\n",
       "    </tr>\n",
       "    <tr>\n",
       "      <th>41</th>\n",
       "      <td>Starbucks</td>\n",
       "      <td>50-64 years</td>\n",
       "      <td>89.01</td>\n",
       "      <td>2017</td>\n",
       "    </tr>\n",
       "    <tr>\n",
       "      <th>45</th>\n",
       "      <td>Taco Bell</td>\n",
       "      <td>18-29 years</td>\n",
       "      <td>84.74</td>\n",
       "      <td>2017</td>\n",
       "    </tr>\n",
       "    <tr>\n",
       "      <th>46</th>\n",
       "      <td>Taco Bell</td>\n",
       "      <td>30-49 years</td>\n",
       "      <td>85.16</td>\n",
       "      <td>2017</td>\n",
       "    </tr>\n",
       "    <tr>\n",
       "      <th>47</th>\n",
       "      <td>Taco Bell</td>\n",
       "      <td>50-64 years</td>\n",
       "      <td>87.37</td>\n",
       "      <td>2017</td>\n",
       "    </tr>\n",
       "    <tr>\n",
       "      <th>...</th>\n",
       "      <td>...</td>\n",
       "      <td>...</td>\n",
       "      <td>...</td>\n",
       "      <td>...</td>\n",
       "    </tr>\n",
       "    <tr>\n",
       "      <th>1</th>\n",
       "      <td>Burger King</td>\n",
       "      <td>30-49 years</td>\n",
       "      <td>63.95</td>\n",
       "      <td>2018</td>\n",
       "    </tr>\n",
       "    <tr>\n",
       "      <th>2</th>\n",
       "      <td>Burger King</td>\n",
       "      <td>50-64 years</td>\n",
       "      <td>51.24</td>\n",
       "      <td>2018</td>\n",
       "    </tr>\n",
       "    <tr>\n",
       "      <th>3</th>\n",
       "      <td>Dunkin' Donuts</td>\n",
       "      <td>18-29 years</td>\n",
       "      <td>35.87</td>\n",
       "      <td>2018</td>\n",
       "    </tr>\n",
       "    <tr>\n",
       "      <th>4</th>\n",
       "      <td>Dunkin' Donuts</td>\n",
       "      <td>30-49 years</td>\n",
       "      <td>40.81</td>\n",
       "      <td>2018</td>\n",
       "    </tr>\n",
       "    <tr>\n",
       "      <th>5</th>\n",
       "      <td>Dunkin' Donuts</td>\n",
       "      <td>50-64 years</td>\n",
       "      <td>24.09</td>\n",
       "      <td>2018</td>\n",
       "    </tr>\n",
       "    <tr>\n",
       "      <th>12</th>\n",
       "      <td>McDonald's</td>\n",
       "      <td>18-29 years</td>\n",
       "      <td>68.07</td>\n",
       "      <td>2018</td>\n",
       "    </tr>\n",
       "    <tr>\n",
       "      <th>13</th>\n",
       "      <td>McDonald's</td>\n",
       "      <td>30-49 years</td>\n",
       "      <td>73.42</td>\n",
       "      <td>2018</td>\n",
       "    </tr>\n",
       "    <tr>\n",
       "      <th>14</th>\n",
       "      <td>McDonald's</td>\n",
       "      <td>50-64 years</td>\n",
       "      <td>65.14</td>\n",
       "      <td>2018</td>\n",
       "    </tr>\n",
       "    <tr>\n",
       "      <th>15</th>\n",
       "      <td>Subway</td>\n",
       "      <td>18-29 years</td>\n",
       "      <td>55.17</td>\n",
       "      <td>2018</td>\n",
       "    </tr>\n",
       "    <tr>\n",
       "      <th>16</th>\n",
       "      <td>Subway</td>\n",
       "      <td>30-49 years</td>\n",
       "      <td>63.28</td>\n",
       "      <td>2018</td>\n",
       "    </tr>\n",
       "    <tr>\n",
       "      <th>17</th>\n",
       "      <td>Subway</td>\n",
       "      <td>50-64 years</td>\n",
       "      <td>55.38</td>\n",
       "      <td>2018</td>\n",
       "    </tr>\n",
       "    <tr>\n",
       "      <th>18</th>\n",
       "      <td>Wendy's</td>\n",
       "      <td>18-29 years</td>\n",
       "      <td>54.07</td>\n",
       "      <td>2018</td>\n",
       "    </tr>\n",
       "    <tr>\n",
       "      <th>19</th>\n",
       "      <td>Wendy's</td>\n",
       "      <td>30-49 years</td>\n",
       "      <td>61.55</td>\n",
       "      <td>2018</td>\n",
       "    </tr>\n",
       "    <tr>\n",
       "      <th>20</th>\n",
       "      <td>Wendy's</td>\n",
       "      <td>50-64 years</td>\n",
       "      <td>48.68</td>\n",
       "      <td>2018</td>\n",
       "    </tr>\n",
       "    <tr>\n",
       "      <th>21</th>\n",
       "      <td>Pizza Hut</td>\n",
       "      <td>18-29 years</td>\n",
       "      <td>67.98</td>\n",
       "      <td>2018</td>\n",
       "    </tr>\n",
       "    <tr>\n",
       "      <th>22</th>\n",
       "      <td>Pizza Hut</td>\n",
       "      <td>30-49 years</td>\n",
       "      <td>89.43</td>\n",
       "      <td>2018</td>\n",
       "    </tr>\n",
       "    <tr>\n",
       "      <th>23</th>\n",
       "      <td>Pizza Hut</td>\n",
       "      <td>50-64 years</td>\n",
       "      <td>78.90</td>\n",
       "      <td>2018</td>\n",
       "    </tr>\n",
       "    <tr>\n",
       "      <th>24</th>\n",
       "      <td>Chick-fil-A</td>\n",
       "      <td>18-29 years</td>\n",
       "      <td>67.54</td>\n",
       "      <td>2018</td>\n",
       "    </tr>\n",
       "    <tr>\n",
       "      <th>25</th>\n",
       "      <td>Chick-fil-A</td>\n",
       "      <td>30-49 years</td>\n",
       "      <td>23.98</td>\n",
       "      <td>2018</td>\n",
       "    </tr>\n",
       "    <tr>\n",
       "      <th>26</th>\n",
       "      <td>Chick-fil-A</td>\n",
       "      <td>50-64 years</td>\n",
       "      <td>55.76</td>\n",
       "      <td>2018</td>\n",
       "    </tr>\n",
       "    <tr>\n",
       "      <th>36</th>\n",
       "      <td>Domino's</td>\n",
       "      <td>18-29 years</td>\n",
       "      <td>91.87</td>\n",
       "      <td>2018</td>\n",
       "    </tr>\n",
       "    <tr>\n",
       "      <th>37</th>\n",
       "      <td>Domino's</td>\n",
       "      <td>30-49 years</td>\n",
       "      <td>85.63</td>\n",
       "      <td>2018</td>\n",
       "    </tr>\n",
       "    <tr>\n",
       "      <th>38</th>\n",
       "      <td>Domino's</td>\n",
       "      <td>50-64 years</td>\n",
       "      <td>93.90</td>\n",
       "      <td>2018</td>\n",
       "    </tr>\n",
       "    <tr>\n",
       "      <th>39</th>\n",
       "      <td>Starbucks</td>\n",
       "      <td>18-29 years</td>\n",
       "      <td>82.86</td>\n",
       "      <td>2018</td>\n",
       "    </tr>\n",
       "    <tr>\n",
       "      <th>40</th>\n",
       "      <td>Starbucks</td>\n",
       "      <td>30-49 years</td>\n",
       "      <td>89.54</td>\n",
       "      <td>2018</td>\n",
       "    </tr>\n",
       "    <tr>\n",
       "      <th>41</th>\n",
       "      <td>Starbucks</td>\n",
       "      <td>50-64 years</td>\n",
       "      <td>90.02</td>\n",
       "      <td>2018</td>\n",
       "    </tr>\n",
       "    <tr>\n",
       "      <th>45</th>\n",
       "      <td>Taco Bell</td>\n",
       "      <td>18-29 years</td>\n",
       "      <td>74.76</td>\n",
       "      <td>2018</td>\n",
       "    </tr>\n",
       "    <tr>\n",
       "      <th>46</th>\n",
       "      <td>Taco Bell</td>\n",
       "      <td>30-49 years</td>\n",
       "      <td>81.23</td>\n",
       "      <td>2018</td>\n",
       "    </tr>\n",
       "    <tr>\n",
       "      <th>47</th>\n",
       "      <td>Taco Bell</td>\n",
       "      <td>50-64 years</td>\n",
       "      <td>86.90</td>\n",
       "      <td>2018</td>\n",
       "    </tr>\n",
       "    <tr>\n",
       "      <th>51</th>\n",
       "      <td>Taco Bell</td>\n",
       "      <td>50-64 years</td>\n",
       "      <td>86.90</td>\n",
       "      <td>2018</td>\n",
       "    </tr>\n",
       "  </tbody>\n",
       "</table>\n",
       "<p>62 rows × 4 columns</p>\n",
       "</div>"
      ],
      "text/plain": [
       "           Company          Age  Share of respondents  Year\n",
       "0      Burger King  18-29 years                 78.34  2017\n",
       "1      Burger King  30-49 years                 82.89  2017\n",
       "2      Burger King  50-64 years                 85.43  2017\n",
       "3   Dunkin' Donuts  18-29 years                 57.73  2017\n",
       "4   Dunkin' Donuts  30-49 years                 49.72  2017\n",
       "5   Dunkin' Donuts  50-64 years                 46.29  2017\n",
       "12      McDonald's  18-29 years                 82.12  2017\n",
       "13      McDonald's  30-49 years                 89.99  2017\n",
       "14      McDonald's  50-64 years                 91.08  2017\n",
       "15          Subway  18-29 years                 93.73  2017\n",
       "16          Subway  30-49 years                 94.34  2017\n",
       "17          Subway  50-64 years                 90.12  2017\n",
       "18         Wendy's  18-29 years                 88.64  2017\n",
       "19         Wendy's  30-49 years                 87.26  2017\n",
       "20         Wendy's  50-64 years                 83.29  2017\n",
       "21       Pizza Hut  18-29 years                 97.56  2017\n",
       "22       Pizza Hut  30-49 years                 94.31  2017\n",
       "23       Pizza Hut  50-64 years                 92.12  2017\n",
       "24     Chick-fil-A  18-29 years                 74.32  2017\n",
       "25     Chick-fil-A  30-49 years                 69.45  2017\n",
       "26     Chick-fil-A  50-64 years                 71.26  2017\n",
       "36        Domino's  18-29 years                 93.65  2017\n",
       "37        Domino's  30-49 years                 96.11  2017\n",
       "38        Domino's  50-64 years                 97.39  2017\n",
       "39       Starbucks  18-29 years                 85.19  2017\n",
       "40       Starbucks  30-49 years                 86.28  2017\n",
       "41       Starbucks  50-64 years                 89.01  2017\n",
       "45       Taco Bell  18-29 years                 84.74  2017\n",
       "46       Taco Bell  30-49 years                 85.16  2017\n",
       "47       Taco Bell  50-64 years                 87.37  2017\n",
       "..             ...          ...                   ...   ...\n",
       "1      Burger King  30-49 years                 63.95  2018\n",
       "2      Burger King  50-64 years                 51.24  2018\n",
       "3   Dunkin' Donuts  18-29 years                 35.87  2018\n",
       "4   Dunkin' Donuts  30-49 years                 40.81  2018\n",
       "5   Dunkin' Donuts  50-64 years                 24.09  2018\n",
       "12      McDonald's  18-29 years                 68.07  2018\n",
       "13      McDonald's  30-49 years                 73.42  2018\n",
       "14      McDonald's  50-64 years                 65.14  2018\n",
       "15          Subway  18-29 years                 55.17  2018\n",
       "16          Subway  30-49 years                 63.28  2018\n",
       "17          Subway  50-64 years                 55.38  2018\n",
       "18         Wendy's  18-29 years                 54.07  2018\n",
       "19         Wendy's  30-49 years                 61.55  2018\n",
       "20         Wendy's  50-64 years                 48.68  2018\n",
       "21       Pizza Hut  18-29 years                 67.98  2018\n",
       "22       Pizza Hut  30-49 years                 89.43  2018\n",
       "23       Pizza Hut  50-64 years                 78.90  2018\n",
       "24     Chick-fil-A  18-29 years                 67.54  2018\n",
       "25     Chick-fil-A  30-49 years                 23.98  2018\n",
       "26     Chick-fil-A  50-64 years                 55.76  2018\n",
       "36        Domino's  18-29 years                 91.87  2018\n",
       "37        Domino's  30-49 years                 85.63  2018\n",
       "38        Domino's  50-64 years                 93.90  2018\n",
       "39       Starbucks  18-29 years                 82.86  2018\n",
       "40       Starbucks  30-49 years                 89.54  2018\n",
       "41       Starbucks  50-64 years                 90.02  2018\n",
       "45       Taco Bell  18-29 years                 74.76  2018\n",
       "46       Taco Bell  30-49 years                 81.23  2018\n",
       "47       Taco Bell  50-64 years                 86.90  2018\n",
       "51       Taco Bell  50-64 years                 86.90  2018\n",
       "\n",
       "[62 rows x 4 columns]"
      ]
     },
     "execution_count": 28,
     "metadata": {},
     "output_type": "execute_result"
    }
   ],
   "source": [
    "frames = [df17, df18]\n",
    "dfmerged = pd.concat(frames)\n",
    "dfmerged"
   ]
  },
  {
   "cell_type": "code",
   "execution_count": 29,
   "metadata": {},
   "outputs": [
    {
     "data": {
      "text/html": [
       "<div>\n",
       "<style scoped>\n",
       "    .dataframe tbody tr th:only-of-type {\n",
       "        vertical-align: middle;\n",
       "    }\n",
       "\n",
       "    .dataframe tbody tr th {\n",
       "        vertical-align: top;\n",
       "    }\n",
       "\n",
       "    .dataframe thead th {\n",
       "        text-align: right;\n",
       "    }\n",
       "</style>\n",
       "<table border=\"1\" class=\"dataframe\">\n",
       "  <thead>\n",
       "    <tr style=\"text-align: right;\">\n",
       "      <th></th>\n",
       "      <th>Company</th>\n",
       "      <th>Age</th>\n",
       "      <th>Share of respondents</th>\n",
       "      <th>Year</th>\n",
       "    </tr>\n",
       "  </thead>\n",
       "  <tbody>\n",
       "    <tr>\n",
       "      <th>0</th>\n",
       "      <td>Burger King</td>\n",
       "      <td>18-29 years</td>\n",
       "      <td>78.34</td>\n",
       "      <td>2017</td>\n",
       "    </tr>\n",
       "    <tr>\n",
       "      <th>3</th>\n",
       "      <td>Dunkin' Donuts</td>\n",
       "      <td>18-29 years</td>\n",
       "      <td>57.73</td>\n",
       "      <td>2017</td>\n",
       "    </tr>\n",
       "    <tr>\n",
       "      <th>12</th>\n",
       "      <td>McDonald's</td>\n",
       "      <td>18-29 years</td>\n",
       "      <td>82.12</td>\n",
       "      <td>2017</td>\n",
       "    </tr>\n",
       "    <tr>\n",
       "      <th>15</th>\n",
       "      <td>Subway</td>\n",
       "      <td>18-29 years</td>\n",
       "      <td>93.73</td>\n",
       "      <td>2017</td>\n",
       "    </tr>\n",
       "    <tr>\n",
       "      <th>18</th>\n",
       "      <td>Wendy's</td>\n",
       "      <td>18-29 years</td>\n",
       "      <td>88.64</td>\n",
       "      <td>2017</td>\n",
       "    </tr>\n",
       "    <tr>\n",
       "      <th>21</th>\n",
       "      <td>Pizza Hut</td>\n",
       "      <td>18-29 years</td>\n",
       "      <td>97.56</td>\n",
       "      <td>2017</td>\n",
       "    </tr>\n",
       "    <tr>\n",
       "      <th>24</th>\n",
       "      <td>Chick-fil-A</td>\n",
       "      <td>18-29 years</td>\n",
       "      <td>74.32</td>\n",
       "      <td>2017</td>\n",
       "    </tr>\n",
       "    <tr>\n",
       "      <th>36</th>\n",
       "      <td>Domino's</td>\n",
       "      <td>18-29 years</td>\n",
       "      <td>93.65</td>\n",
       "      <td>2017</td>\n",
       "    </tr>\n",
       "    <tr>\n",
       "      <th>39</th>\n",
       "      <td>Starbucks</td>\n",
       "      <td>18-29 years</td>\n",
       "      <td>85.19</td>\n",
       "      <td>2017</td>\n",
       "    </tr>\n",
       "    <tr>\n",
       "      <th>45</th>\n",
       "      <td>Taco Bell</td>\n",
       "      <td>18-29 years</td>\n",
       "      <td>84.74</td>\n",
       "      <td>2017</td>\n",
       "    </tr>\n",
       "    <tr>\n",
       "      <th>0</th>\n",
       "      <td>Burger King</td>\n",
       "      <td>18-29 years</td>\n",
       "      <td>53.53</td>\n",
       "      <td>2018</td>\n",
       "    </tr>\n",
       "    <tr>\n",
       "      <th>3</th>\n",
       "      <td>Dunkin' Donuts</td>\n",
       "      <td>18-29 years</td>\n",
       "      <td>35.87</td>\n",
       "      <td>2018</td>\n",
       "    </tr>\n",
       "    <tr>\n",
       "      <th>12</th>\n",
       "      <td>McDonald's</td>\n",
       "      <td>18-29 years</td>\n",
       "      <td>68.07</td>\n",
       "      <td>2018</td>\n",
       "    </tr>\n",
       "    <tr>\n",
       "      <th>15</th>\n",
       "      <td>Subway</td>\n",
       "      <td>18-29 years</td>\n",
       "      <td>55.17</td>\n",
       "      <td>2018</td>\n",
       "    </tr>\n",
       "    <tr>\n",
       "      <th>18</th>\n",
       "      <td>Wendy's</td>\n",
       "      <td>18-29 years</td>\n",
       "      <td>54.07</td>\n",
       "      <td>2018</td>\n",
       "    </tr>\n",
       "    <tr>\n",
       "      <th>21</th>\n",
       "      <td>Pizza Hut</td>\n",
       "      <td>18-29 years</td>\n",
       "      <td>67.98</td>\n",
       "      <td>2018</td>\n",
       "    </tr>\n",
       "    <tr>\n",
       "      <th>24</th>\n",
       "      <td>Chick-fil-A</td>\n",
       "      <td>18-29 years</td>\n",
       "      <td>67.54</td>\n",
       "      <td>2018</td>\n",
       "    </tr>\n",
       "    <tr>\n",
       "      <th>36</th>\n",
       "      <td>Domino's</td>\n",
       "      <td>18-29 years</td>\n",
       "      <td>91.87</td>\n",
       "      <td>2018</td>\n",
       "    </tr>\n",
       "    <tr>\n",
       "      <th>39</th>\n",
       "      <td>Starbucks</td>\n",
       "      <td>18-29 years</td>\n",
       "      <td>82.86</td>\n",
       "      <td>2018</td>\n",
       "    </tr>\n",
       "    <tr>\n",
       "      <th>45</th>\n",
       "      <td>Taco Bell</td>\n",
       "      <td>18-29 years</td>\n",
       "      <td>74.76</td>\n",
       "      <td>2018</td>\n",
       "    </tr>\n",
       "  </tbody>\n",
       "</table>\n",
       "</div>"
      ],
      "text/plain": [
       "           Company          Age  Share of respondents  Year\n",
       "0      Burger King  18-29 years                 78.34  2017\n",
       "3   Dunkin' Donuts  18-29 years                 57.73  2017\n",
       "12      McDonald's  18-29 years                 82.12  2017\n",
       "15          Subway  18-29 years                 93.73  2017\n",
       "18         Wendy's  18-29 years                 88.64  2017\n",
       "21       Pizza Hut  18-29 years                 97.56  2017\n",
       "24     Chick-fil-A  18-29 years                 74.32  2017\n",
       "36        Domino's  18-29 years                 93.65  2017\n",
       "39       Starbucks  18-29 years                 85.19  2017\n",
       "45       Taco Bell  18-29 years                 84.74  2017\n",
       "0      Burger King  18-29 years                 53.53  2018\n",
       "3   Dunkin' Donuts  18-29 years                 35.87  2018\n",
       "12      McDonald's  18-29 years                 68.07  2018\n",
       "15          Subway  18-29 years                 55.17  2018\n",
       "18         Wendy's  18-29 years                 54.07  2018\n",
       "21       Pizza Hut  18-29 years                 67.98  2018\n",
       "24     Chick-fil-A  18-29 years                 67.54  2018\n",
       "36        Domino's  18-29 years                 91.87  2018\n",
       "39       Starbucks  18-29 years                 82.86  2018\n",
       "45       Taco Bell  18-29 years                 74.76  2018"
      ]
     },
     "execution_count": 29,
     "metadata": {},
     "output_type": "execute_result"
    }
   ],
   "source": [
    "dfmergedAge1=dfmerged.loc[dfmerged['Age'] == '18-29 years']\n",
    "dfmergedAge1"
   ]
  },
  {
   "cell_type": "code",
   "execution_count": 30,
   "metadata": {},
   "outputs": [
    {
     "data": {
      "image/png": "[encoded data removed]",
      "text/plain": [
       "<Figure size 3600x216 with 1 Axes>"
      ]
     },
     "metadata": {
      "needs_background": "light"
     },
     "output_type": "display_data"
    }
   ],
   "source": [
    "import matplotlib.pyplot as plt\n",
    "\n",
    "plt.figure(figsize=(50, 3))\n",
    "\n",
    "plt.suptitle('Analysis of age group 18 - 29 in 2017-18')\n",
    "plt.subplot(132)\n",
    "plt.ylabel('18-29 years peopple in %')\n",
    "plt.scatter(x=dfmergedAge1['Company'], y=dfmergedAge1['Share of respondents'],c=dfmergedAge1['Year'])\n",
    "plt.show()"
   ]
  },
  {
   "cell_type": "code",
   "execution_count": 31,
   "metadata": {},
   "outputs": [
    {
     "data": {
      "text/html": [
       "<div>\n",
       "<style scoped>\n",
       "    .dataframe tbody tr th:only-of-type {\n",
       "        vertical-align: middle;\n",
       "    }\n",
       "\n",
       "    .dataframe tbody tr th {\n",
       "        vertical-align: top;\n",
       "    }\n",
       "\n",
       "    .dataframe thead th {\n",
       "        text-align: right;\n",
       "    }\n",
       "</style>\n",
       "<table border=\"1\" class=\"dataframe\">\n",
       "  <thead>\n",
       "    <tr style=\"text-align: right;\">\n",
       "      <th></th>\n",
       "      <th>Company</th>\n",
       "      <th>Age</th>\n",
       "      <th>Share of respondents</th>\n",
       "      <th>Year</th>\n",
       "    </tr>\n",
       "  </thead>\n",
       "  <tbody>\n",
       "    <tr>\n",
       "      <th>1</th>\n",
       "      <td>Burger King</td>\n",
       "      <td>30-49 years</td>\n",
       "      <td>82.89</td>\n",
       "      <td>2017</td>\n",
       "    </tr>\n",
       "    <tr>\n",
       "      <th>4</th>\n",
       "      <td>Dunkin' Donuts</td>\n",
       "      <td>30-49 years</td>\n",
       "      <td>49.72</td>\n",
       "      <td>2017</td>\n",
       "    </tr>\n",
       "    <tr>\n",
       "      <th>13</th>\n",
       "      <td>McDonald's</td>\n",
       "      <td>30-49 years</td>\n",
       "      <td>89.99</td>\n",
       "      <td>2017</td>\n",
       "    </tr>\n",
       "    <tr>\n",
       "      <th>16</th>\n",
       "      <td>Subway</td>\n",
       "      <td>30-49 years</td>\n",
       "      <td>94.34</td>\n",
       "      <td>2017</td>\n",
       "    </tr>\n",
       "    <tr>\n",
       "      <th>19</th>\n",
       "      <td>Wendy's</td>\n",
       "      <td>30-49 years</td>\n",
       "      <td>87.26</td>\n",
       "      <td>2017</td>\n",
       "    </tr>\n",
       "    <tr>\n",
       "      <th>22</th>\n",
       "      <td>Pizza Hut</td>\n",
       "      <td>30-49 years</td>\n",
       "      <td>94.31</td>\n",
       "      <td>2017</td>\n",
       "    </tr>\n",
       "    <tr>\n",
       "      <th>25</th>\n",
       "      <td>Chick-fil-A</td>\n",
       "      <td>30-49 years</td>\n",
       "      <td>69.45</td>\n",
       "      <td>2017</td>\n",
       "    </tr>\n",
       "    <tr>\n",
       "      <th>37</th>\n",
       "      <td>Domino's</td>\n",
       "      <td>30-49 years</td>\n",
       "      <td>96.11</td>\n",
       "      <td>2017</td>\n",
       "    </tr>\n",
       "    <tr>\n",
       "      <th>40</th>\n",
       "      <td>Starbucks</td>\n",
       "      <td>30-49 years</td>\n",
       "      <td>86.28</td>\n",
       "      <td>2017</td>\n",
       "    </tr>\n",
       "    <tr>\n",
       "      <th>46</th>\n",
       "      <td>Taco Bell</td>\n",
       "      <td>30-49 years</td>\n",
       "      <td>85.16</td>\n",
       "      <td>2017</td>\n",
       "    </tr>\n",
       "    <tr>\n",
       "      <th>1</th>\n",
       "      <td>Burger King</td>\n",
       "      <td>30-49 years</td>\n",
       "      <td>63.95</td>\n",
       "      <td>2018</td>\n",
       "    </tr>\n",
       "    <tr>\n",
       "      <th>4</th>\n",
       "      <td>Dunkin' Donuts</td>\n",
       "      <td>30-49 years</td>\n",
       "      <td>40.81</td>\n",
       "      <td>2018</td>\n",
       "    </tr>\n",
       "    <tr>\n",
       "      <th>13</th>\n",
       "      <td>McDonald's</td>\n",
       "      <td>30-49 years</td>\n",
       "      <td>73.42</td>\n",
       "      <td>2018</td>\n",
       "    </tr>\n",
       "    <tr>\n",
       "      <th>16</th>\n",
       "      <td>Subway</td>\n",
       "      <td>30-49 years</td>\n",
       "      <td>63.28</td>\n",
       "      <td>2018</td>\n",
       "    </tr>\n",
       "    <tr>\n",
       "      <th>19</th>\n",
       "      <td>Wendy's</td>\n",
       "      <td>30-49 years</td>\n",
       "      <td>61.55</td>\n",
       "      <td>2018</td>\n",
       "    </tr>\n",
       "    <tr>\n",
       "      <th>22</th>\n",
       "      <td>Pizza Hut</td>\n",
       "      <td>30-49 years</td>\n",
       "      <td>89.43</td>\n",
       "      <td>2018</td>\n",
       "    </tr>\n",
       "    <tr>\n",
       "      <th>25</th>\n",
       "      <td>Chick-fil-A</td>\n",
       "      <td>30-49 years</td>\n",
       "      <td>23.98</td>\n",
       "      <td>2018</td>\n",
       "    </tr>\n",
       "    <tr>\n",
       "      <th>37</th>\n",
       "      <td>Domino's</td>\n",
       "      <td>30-49 years</td>\n",
       "      <td>85.63</td>\n",
       "      <td>2018</td>\n",
       "    </tr>\n",
       "    <tr>\n",
       "      <th>40</th>\n",
       "      <td>Starbucks</td>\n",
       "      <td>30-49 years</td>\n",
       "      <td>89.54</td>\n",
       "      <td>2018</td>\n",
       "    </tr>\n",
       "    <tr>\n",
       "      <th>46</th>\n",
       "      <td>Taco Bell</td>\n",
       "      <td>30-49 years</td>\n",
       "      <td>81.23</td>\n",
       "      <td>2018</td>\n",
       "    </tr>\n",
       "  </tbody>\n",
       "</table>\n",
       "</div>"
      ],
      "text/plain": [
       "           Company          Age  Share of respondents  Year\n",
       "1      Burger King  30-49 years                 82.89  2017\n",
       "4   Dunkin' Donuts  30-49 years                 49.72  2017\n",
       "13      McDonald's  30-49 years                 89.99  2017\n",
       "16          Subway  30-49 years                 94.34  2017\n",
       "19         Wendy's  30-49 years                 87.26  2017\n",
       "22       Pizza Hut  30-49 years                 94.31  2017\n",
       "25     Chick-fil-A  30-49 years                 69.45  2017\n",
       "37        Domino's  30-49 years                 96.11  2017\n",
       "40       Starbucks  30-49 years                 86.28  2017\n",
       "46       Taco Bell  30-49 years                 85.16  2017\n",
       "1      Burger King  30-49 years                 63.95  2018\n",
       "4   Dunkin' Donuts  30-49 years                 40.81  2018\n",
       "13      McDonald's  30-49 years                 73.42  2018\n",
       "16          Subway  30-49 years                 63.28  2018\n",
       "19         Wendy's  30-49 years                 61.55  2018\n",
       "22       Pizza Hut  30-49 years                 89.43  2018\n",
       "25     Chick-fil-A  30-49 years                 23.98  2018\n",
       "37        Domino's  30-49 years                 85.63  2018\n",
       "40       Starbucks  30-49 years                 89.54  2018\n",
       "46       Taco Bell  30-49 years                 81.23  2018"
      ]
     },
     "execution_count": 31,
     "metadata": {},
     "output_type": "execute_result"
    }
   ],
   "source": [
    "dfmergedAge2=dfmerged.loc[dfmerged['Age'] == '30-49 years']\n",
    "dfmergedAge2"
   ]
  },
  {
   "cell_type": "code",
   "execution_count": 45,
   "metadata": {},
   "outputs": [
    {
     "data": {
      "image/png": "[encoded data removed]",
      "text/plain": [
       "<Figure size 3600x216 with 1 Axes>"
      ]
     },
     "metadata": {
      "needs_background": "light"
     },
     "output_type": "display_data"
    }
   ],
   "source": [
    "import matplotlib.pyplot as plt\n",
    "\n",
    "\n",
    "plt.figure(figsize=(50, 3))\n",
    "plt.suptitle('Analysis of age group 30 - 49 in 2017-18')\n",
    "plt.subplot(132)\n",
    "plt.ylabel('30-49 years peopple in %')\n",
    "\n",
    "plt.scatter(x=dfmergedAge2['Company'], y=dfmergedAge2['Share of respondents'],c=dfmergedAge2['Year'])\n",
    "plt.show()"
   ]
  },
  {
   "cell_type": "code",
   "execution_count": 33,
   "metadata": {},
   "outputs": [
    {
     "data": {
      "text/html": [
       "<div>\n",
       "<style scoped>\n",
       "    .dataframe tbody tr th:only-of-type {\n",
       "        vertical-align: middle;\n",
       "    }\n",
       "\n",
       "    .dataframe tbody tr th {\n",
       "        vertical-align: top;\n",
       "    }\n",
       "\n",
       "    .dataframe thead th {\n",
       "        text-align: right;\n",
       "    }\n",
       "</style>\n",
       "<table border=\"1\" class=\"dataframe\">\n",
       "  <thead>\n",
       "    <tr style=\"text-align: right;\">\n",
       "      <th></th>\n",
       "      <th>Company</th>\n",
       "      <th>Age</th>\n",
       "      <th>Share of respondents</th>\n",
       "      <th>Year</th>\n",
       "    </tr>\n",
       "  </thead>\n",
       "  <tbody>\n",
       "    <tr>\n",
       "      <th>2</th>\n",
       "      <td>Burger King</td>\n",
       "      <td>50-64 years</td>\n",
       "      <td>85.43</td>\n",
       "      <td>2017</td>\n",
       "    </tr>\n",
       "    <tr>\n",
       "      <th>5</th>\n",
       "      <td>Dunkin' Donuts</td>\n",
       "      <td>50-64 years</td>\n",
       "      <td>46.29</td>\n",
       "      <td>2017</td>\n",
       "    </tr>\n",
       "    <tr>\n",
       "      <th>14</th>\n",
       "      <td>McDonald's</td>\n",
       "      <td>50-64 years</td>\n",
       "      <td>91.08</td>\n",
       "      <td>2017</td>\n",
       "    </tr>\n",
       "    <tr>\n",
       "      <th>17</th>\n",
       "      <td>Subway</td>\n",
       "      <td>50-64 years</td>\n",
       "      <td>90.12</td>\n",
       "      <td>2017</td>\n",
       "    </tr>\n",
       "    <tr>\n",
       "      <th>20</th>\n",
       "      <td>Wendy's</td>\n",
       "      <td>50-64 years</td>\n",
       "      <td>83.29</td>\n",
       "      <td>2017</td>\n",
       "    </tr>\n",
       "    <tr>\n",
       "      <th>23</th>\n",
       "      <td>Pizza Hut</td>\n",
       "      <td>50-64 years</td>\n",
       "      <td>92.12</td>\n",
       "      <td>2017</td>\n",
       "    </tr>\n",
       "    <tr>\n",
       "      <th>26</th>\n",
       "      <td>Chick-fil-A</td>\n",
       "      <td>50-64 years</td>\n",
       "      <td>71.26</td>\n",
       "      <td>2017</td>\n",
       "    </tr>\n",
       "    <tr>\n",
       "      <th>38</th>\n",
       "      <td>Domino's</td>\n",
       "      <td>50-64 years</td>\n",
       "      <td>97.39</td>\n",
       "      <td>2017</td>\n",
       "    </tr>\n",
       "    <tr>\n",
       "      <th>41</th>\n",
       "      <td>Starbucks</td>\n",
       "      <td>50-64 years</td>\n",
       "      <td>89.01</td>\n",
       "      <td>2017</td>\n",
       "    </tr>\n",
       "    <tr>\n",
       "      <th>47</th>\n",
       "      <td>Taco Bell</td>\n",
       "      <td>50-64 years</td>\n",
       "      <td>87.37</td>\n",
       "      <td>2017</td>\n",
       "    </tr>\n",
       "    <tr>\n",
       "      <th>51</th>\n",
       "      <td>Taco Bell</td>\n",
       "      <td>50-64 years</td>\n",
       "      <td>87.37</td>\n",
       "      <td>2017</td>\n",
       "    </tr>\n",
       "    <tr>\n",
       "      <th>2</th>\n",
       "      <td>Burger King</td>\n",
       "      <td>50-64 years</td>\n",
       "      <td>51.24</td>\n",
       "      <td>2018</td>\n",
       "    </tr>\n",
       "    <tr>\n",
       "      <th>5</th>\n",
       "      <td>Dunkin' Donuts</td>\n",
       "      <td>50-64 years</td>\n",
       "      <td>24.09</td>\n",
       "      <td>2018</td>\n",
       "    </tr>\n",
       "    <tr>\n",
       "      <th>14</th>\n",
       "      <td>McDonald's</td>\n",
       "      <td>50-64 years</td>\n",
       "      <td>65.14</td>\n",
       "      <td>2018</td>\n",
       "    </tr>\n",
       "    <tr>\n",
       "      <th>17</th>\n",
       "      <td>Subway</td>\n",
       "      <td>50-64 years</td>\n",
       "      <td>55.38</td>\n",
       "      <td>2018</td>\n",
       "    </tr>\n",
       "    <tr>\n",
       "      <th>20</th>\n",
       "      <td>Wendy's</td>\n",
       "      <td>50-64 years</td>\n",
       "      <td>48.68</td>\n",
       "      <td>2018</td>\n",
       "    </tr>\n",
       "    <tr>\n",
       "      <th>23</th>\n",
       "      <td>Pizza Hut</td>\n",
       "      <td>50-64 years</td>\n",
       "      <td>78.90</td>\n",
       "      <td>2018</td>\n",
       "    </tr>\n",
       "    <tr>\n",
       "      <th>26</th>\n",
       "      <td>Chick-fil-A</td>\n",
       "      <td>50-64 years</td>\n",
       "      <td>55.76</td>\n",
       "      <td>2018</td>\n",
       "    </tr>\n",
       "    <tr>\n",
       "      <th>38</th>\n",
       "      <td>Domino's</td>\n",
       "      <td>50-64 years</td>\n",
       "      <td>93.90</td>\n",
       "      <td>2018</td>\n",
       "    </tr>\n",
       "    <tr>\n",
       "      <th>41</th>\n",
       "      <td>Starbucks</td>\n",
       "      <td>50-64 years</td>\n",
       "      <td>90.02</td>\n",
       "      <td>2018</td>\n",
       "    </tr>\n",
       "    <tr>\n",
       "      <th>47</th>\n",
       "      <td>Taco Bell</td>\n",
       "      <td>50-64 years</td>\n",
       "      <td>86.90</td>\n",
       "      <td>2018</td>\n",
       "    </tr>\n",
       "    <tr>\n",
       "      <th>51</th>\n",
       "      <td>Taco Bell</td>\n",
       "      <td>50-64 years</td>\n",
       "      <td>86.90</td>\n",
       "      <td>2018</td>\n",
       "    </tr>\n",
       "  </tbody>\n",
       "</table>\n",
       "</div>"
      ],
      "text/plain": [
       "           Company          Age  Share of respondents  Year\n",
       "2      Burger King  50-64 years                 85.43  2017\n",
       "5   Dunkin' Donuts  50-64 years                 46.29  2017\n",
       "14      McDonald's  50-64 years                 91.08  2017\n",
       "17          Subway  50-64 years                 90.12  2017\n",
       "20         Wendy's  50-64 years                 83.29  2017\n",
       "23       Pizza Hut  50-64 years                 92.12  2017\n",
       "26     Chick-fil-A  50-64 years                 71.26  2017\n",
       "38        Domino's  50-64 years                 97.39  2017\n",
       "41       Starbucks  50-64 years                 89.01  2017\n",
       "47       Taco Bell  50-64 years                 87.37  2017\n",
       "51       Taco Bell  50-64 years                 87.37  2017\n",
       "2      Burger King  50-64 years                 51.24  2018\n",
       "5   Dunkin' Donuts  50-64 years                 24.09  2018\n",
       "14      McDonald's  50-64 years                 65.14  2018\n",
       "17          Subway  50-64 years                 55.38  2018\n",
       "20         Wendy's  50-64 years                 48.68  2018\n",
       "23       Pizza Hut  50-64 years                 78.90  2018\n",
       "26     Chick-fil-A  50-64 years                 55.76  2018\n",
       "38        Domino's  50-64 years                 93.90  2018\n",
       "41       Starbucks  50-64 years                 90.02  2018\n",
       "47       Taco Bell  50-64 years                 86.90  2018\n",
       "51       Taco Bell  50-64 years                 86.90  2018"
      ]
     },
     "execution_count": 33,
     "metadata": {},
     "output_type": "execute_result"
    }
   ],
   "source": [
    "dfmergedAge3=dfmerged.loc[dfmerged['Age'] == '50-64 years']\n",
    "dfmergedAge3"
   ]
  },
  {
   "cell_type": "code",
   "execution_count": 34,
   "metadata": {},
   "outputs": [
    {
     "data": {
      "image/png": "[encoded data removed]",
      "text/plain": [
       "<Figure size 3600x216 with 1 Axes>"
      ]
     },
     "metadata": {
      "needs_background": "light"
     },
     "output_type": "display_data"
    }
   ],
   "source": [
    "import matplotlib.pyplot as plt\n",
    "\n",
    "\n",
    "plt.figure(figsize=(50, 3))\n",
    "plt.suptitle('Analysis of age group 50 - 64 in 2017-18')\n",
    "plt.subplot(132)\n",
    "plt.ylabel('50-64years peopple in %')\n",
    "plt.scatter(x=dfmergedAge3['Company'], y=dfmergedAge3['Share of respondents'],c=dfmergedAge3['Year'])\n",
    "plt.show()"
   ]
  },
  {
   "cell_type": "code",
   "execution_count": 35,
   "metadata": {},
   "outputs": [],
   "source": [
    "df17Age1=df17.loc[df17['Age'] == '18-29 years']\n",
    "df18Age1=df17.loc[df17['Age'] == '18-29 years']"
   ]
  },
  {
   "cell_type": "code",
   "execution_count": null,
   "metadata": {},
   "outputs": [],
   "source": []
  },
  {
   "cell_type": "code",
   "execution_count": 36,
   "metadata": {},
   "outputs": [
    {
     "data": {
      "image/png": "[encoded data removed]",
      "text/plain": [
       "<Figure size 3240x432 with 1 Axes>"
      ]
     },
     "metadata": {
      "needs_background": "light"
     },
     "output_type": "display_data"
    }
   ],
   "source": [
    "import matplotlib.pyplot as plt\n",
    "\n",
    "plt.figure(figsize=(45, 6))\n",
    "plt.suptitle('Age Group 18 - 29')\n",
    "plt.subplot(131)\n",
    "plt.bar(df17Age1['Company'], df17Age1['Share of respondents'],facecolor='olive')\n",
    "plt.ylabel('18-29 years')\n",
    "plt.show()"
   ]
  },
  {
   "cell_type": "code",
   "execution_count": 37,
   "metadata": {},
   "outputs": [],
   "source": [
    "dfTotal = pd.read_csv(\"C:/Users/humakausar.saudagar/Downloads/dataset/visited-fast-food-restaurants-2017.csv\")\n"
   ]
  },
  {
   "cell_type": "code",
   "execution_count": 38,
   "metadata": {},
   "outputs": [],
   "source": [
    "dfTotal.columns = ['Company','VisitedPeople in %','percentage']\n",
    "dfTotal=dfTotal.drop(columns=['percentage'])"
   ]
  },
  {
   "cell_type": "code",
   "execution_count": 39,
   "metadata": {},
   "outputs": [
    {
     "data": {
      "text/html": [
       "<div>\n",
       "<style scoped>\n",
       "    .dataframe tbody tr th:only-of-type {\n",
       "        vertical-align: middle;\n",
       "    }\n",
       "\n",
       "    .dataframe tbody tr th {\n",
       "        vertical-align: top;\n",
       "    }\n",
       "\n",
       "    .dataframe thead th {\n",
       "        text-align: right;\n",
       "    }\n",
       "</style>\n",
       "<table border=\"1\" class=\"dataframe\">\n",
       "  <thead>\n",
       "    <tr style=\"text-align: right;\">\n",
       "      <th></th>\n",
       "      <th>Company</th>\n",
       "      <th>VisitedPeople in %</th>\n",
       "    </tr>\n",
       "  </thead>\n",
       "  <tbody>\n",
       "    <tr>\n",
       "      <th>0</th>\n",
       "      <td>McDonald's</td>\n",
       "      <td>72.30</td>\n",
       "    </tr>\n",
       "    <tr>\n",
       "      <th>1</th>\n",
       "      <td>Taco Bell</td>\n",
       "      <td>73.50</td>\n",
       "    </tr>\n",
       "    <tr>\n",
       "      <th>2</th>\n",
       "      <td>Subway</td>\n",
       "      <td>32.77</td>\n",
       "    </tr>\n",
       "    <tr>\n",
       "      <th>3</th>\n",
       "      <td>Burger King</td>\n",
       "      <td>39.09</td>\n",
       "    </tr>\n",
       "    <tr>\n",
       "      <th>4</th>\n",
       "      <td>Wendy's</td>\n",
       "      <td>66.35</td>\n",
       "    </tr>\n",
       "  </tbody>\n",
       "</table>\n",
       "</div>"
      ],
      "text/plain": [
       "       Company  VisitedPeople in %\n",
       "0   McDonald's               72.30\n",
       "1    Taco Bell               73.50\n",
       "2       Subway               32.77\n",
       "3  Burger King               39.09\n",
       "4      Wendy's               66.35"
      ]
     },
     "execution_count": 39,
     "metadata": {},
     "output_type": "execute_result"
    }
   ],
   "source": [
    "dfTotal.head()"
   ]
  },
  {
   "cell_type": "code",
   "execution_count": 50,
   "metadata": {},
   "outputs": [],
   "source": [
    "\n",
    "trydf=df17.loc[df17['Company'] == 'Subway']\n"
   ]
  },
  {
   "cell_type": "code",
   "execution_count": 54,
   "metadata": {},
   "outputs": [],
   "source": [
    "\n",
    "df17['Age'] = df17['Age'].map(lambda x: x.lstrip('+-').rstrip('years'))"
   ]
  },
  {
   "cell_type": "code",
   "execution_count": 57,
   "metadata": {},
   "outputs": [],
   "source": [
    "df17['Age'].replace(regex=True,inplace=True,to_replace=r'\\D',value=r'')"
   ]
  },
  {
   "cell_type": "code",
   "execution_count": 63,
   "metadata": {},
   "outputs": [
    {
     "data": {
      "image/png": "[encoded data removed]",
      "text/plain": [
       "<Figure size 3600x216 with 1 Axes>"
      ]
     },
     "metadata": {
      "needs_background": "light"
     },
     "output_type": "display_data"
    }
   ],
   "source": [
    "import matplotlib.pyplot as plt\n",
    "\n",
    "\n",
    "plt.figure(figsize=(50, 3))\n",
    "plt.subplot(132)\n",
    "#plt.ylabel('50-64years peopple in %')\n",
    "plt.scatter(x=df17['Company'], c=df17['Share of respondents'],y=df17['Age'])\n",
    "#df17.plot.scatter(x = 'Company', y = 'Age',c='Share of respondents',colormap ='viridis')\n",
    "plt.show()"
   ]
  },
  {
   "cell_type": "code",
   "execution_count": 69,
   "metadata": {},
   "outputs": [
    {
     "data": {
      "text/plain": [
       "<seaborn.axisgrid.PairGrid at 0x17ea3436dd8>"
      ]
     },
     "execution_count": 69,
     "metadata": {},
     "output_type": "execute_result"
    },
    {
     "data": {
      "image/png": "[encoded data removed]",
      "text/plain": [
       "<Figure size 815.625x720 with 1 Axes>"
      ]
     },
     "metadata": {
      "needs_background": "light"
     },
     "output_type": "display_data"
    }
   ],
   "source": [
    "import seaborn as sns\n",
    "sns.pairplot(x_vars=[\"Company\"], y_vars=[\"Share of respondents\"], data=df18, hue=\"Age\", size=10)\n"
   ]
  },
  {
   "cell_type": "code",
   "execution_count": 82,
   "metadata": {},
   "outputs": [
    {
     "data": {
      "text/html": [
       "<div>\n",
       "<style scoped>\n",
       "    .dataframe tbody tr th:only-of-type {\n",
       "        vertical-align: middle;\n",
       "    }\n",
       "\n",
       "    .dataframe tbody tr th {\n",
       "        vertical-align: top;\n",
       "    }\n",
       "\n",
       "    .dataframe thead th {\n",
       "        text-align: right;\n",
       "    }\n",
       "</style>\n",
       "<table border=\"1\" class=\"dataframe\">\n",
       "  <thead>\n",
       "    <tr style=\"text-align: right;\">\n",
       "      <th></th>\n",
       "      <th>Company</th>\n",
       "      <th>Age</th>\n",
       "      <th>Share of respondents</th>\n",
       "      <th>Year</th>\n",
       "    </tr>\n",
       "  </thead>\n",
       "  <tbody>\n",
       "    <tr>\n",
       "      <th>15</th>\n",
       "      <td>Subway</td>\n",
       "      <td>1829</td>\n",
       "      <td>93.73</td>\n",
       "      <td>2017</td>\n",
       "    </tr>\n",
       "    <tr>\n",
       "      <th>16</th>\n",
       "      <td>Subway</td>\n",
       "      <td>3049</td>\n",
       "      <td>94.34</td>\n",
       "      <td>2017</td>\n",
       "    </tr>\n",
       "    <tr>\n",
       "      <th>17</th>\n",
       "      <td>Subway</td>\n",
       "      <td>5064</td>\n",
       "      <td>90.12</td>\n",
       "      <td>2017</td>\n",
       "    </tr>\n",
       "  </tbody>\n",
       "</table>\n",
       "</div>"
      ],
      "text/plain": [
       "   Company   Age  Share of respondents  Year\n",
       "15  Subway  1829                 93.73  2017\n",
       "16  Subway  3049                 94.34  2017\n",
       "17  Subway  5064                 90.12  2017"
      ]
     },
     "execution_count": 82,
     "metadata": {},
     "output_type": "execute_result"
    }
   ],
   "source": [
    "dfsubway=df17.loc[df17['Company'] == 'Subway']\n",
    "dfsubway"
   ]
  },
  {
   "cell_type": "code",
   "execution_count": 79,
   "metadata": {},
   "outputs": [
    {
     "data": {
      "text/html": [
       "<div>\n",
       "<style scoped>\n",
       "    .dataframe tbody tr th:only-of-type {\n",
       "        vertical-align: middle;\n",
       "    }\n",
       "\n",
       "    .dataframe tbody tr th {\n",
       "        vertical-align: top;\n",
       "    }\n",
       "\n",
       "    .dataframe thead th {\n",
       "        text-align: right;\n",
       "    }\n",
       "</style>\n",
       "<table border=\"1\" class=\"dataframe\">\n",
       "  <thead>\n",
       "    <tr style=\"text-align: right;\">\n",
       "      <th></th>\n",
       "      <th>Company</th>\n",
       "      <th>Age</th>\n",
       "      <th>Share of respondents</th>\n",
       "      <th>Year</th>\n",
       "    </tr>\n",
       "  </thead>\n",
       "  <tbody>\n",
       "    <tr>\n",
       "      <th>15</th>\n",
       "      <td>Subway</td>\n",
       "      <td>1829</td>\n",
       "      <td>30.715321</td>\n",
       "      <td>2017</td>\n",
       "    </tr>\n",
       "    <tr>\n",
       "      <th>16</th>\n",
       "      <td>Subway</td>\n",
       "      <td>3049</td>\n",
       "      <td>30.915218</td>\n",
       "      <td>2017</td>\n",
       "    </tr>\n",
       "    <tr>\n",
       "      <th>17</th>\n",
       "      <td>Subway</td>\n",
       "      <td>5064</td>\n",
       "      <td>29.532324</td>\n",
       "      <td>2017</td>\n",
       "    </tr>\n",
       "  </tbody>\n",
       "</table>\n",
       "</div>"
      ],
      "text/plain": [
       "   Company   Age  Share of respondents  Year\n",
       "15  Subway  1829             30.715321  2017\n",
       "16  Subway  3049             30.915218  2017\n",
       "17  Subway  5064             29.532324  2017"
      ]
     },
     "execution_count": 79,
     "metadata": {},
     "output_type": "execute_result"
    }
   ],
   "source": [
    "totalpercentage=dfTotal.loc[dfTotal['Company'] == 'Subway', 'VisitedPeople in %'].item()\n",
    "dfsubway['Share of respondents']=totalpercentage*(dfsubway['Share of respondents'].div(100))"
   ]
  },
  {
   "cell_type": "code",
   "execution_count": null,
   "metadata": {},
   "outputs": [],
   "source": []
  },
  {
   "cell_type": "code",
   "execution_count": null,
   "metadata": {},
   "outputs": [],
   "source": []
  },
  {
   "cell_type": "code",
   "execution_count": null,
   "metadata": {},
   "outputs": [],
   "source": [
    "import matplotlib.pyplot as plt\n",
    "\n",
    "plt.figure(figsize=(45, 6))\n",
    "plt.suptitle('Subway')\n",
    "plt.subplot(131)\n",
    "plt.plot(dfsubway['Company'], dfsubway['Share of respondents'],facecolor='olive')\n",
    "plt.ylabel('18-29 years')\n",
    "plt.show()"
   ]
  },
  {
   "cell_type": "code",
   "execution_count": 43,
   "metadata": {},
   "outputs": [],
   "source": [
    "df5 = pd.read_csv(\"/Users/prajnabhandary/Desktop/restaurants_list/data/datafiniti_fast_food_restaurants.csv\")"
   ]
  },
  {
   "cell_type": "code",
   "execution_count": 45,
   "metadata": {},
   "outputs": [],
   "source": [
    "df6 = pd.read_csv(\"/Users/prajnabhandary/Desktop/restaurants_list/data/datafiniti_fast_food_restaurants_jun19.csv\")"
   ]
  },
  {
   "cell_type": "code",
   "execution_count": 46,
   "metadata": {},
   "outputs": [],
   "source": [
    "df7 = pd.read_csv(\"/Users/prajnabhandary/Desktop/restaurants_list/data/fastfoodrestaurants.csv\")"
   ]
  },
  {
   "cell_type": "code",
   "execution_count": 6,
   "metadata": {},
   "outputs": [
    {
     "data": {
      "text/plain": [
       "array(['18 - 29 years', '30 - 49 years', '50 - 64 years', '18-29 years',\n",
       "       '30-49 years', '50-64 years'], dtype=object)"
      ]
     },
     "execution_count": 6,
     "metadata": {},
     "output_type": "execute_result"
    }
   ],
   "source": [
    "df3['Age'].unique()"
   ]
  },
  {
   "cell_type": "code",
   "execution_count": 7,
   "metadata": {},
   "outputs": [],
   "source": [
    "df3['Age'] = df3['Age'].replace(['18 - 29 years', '30 - 49 years', '50 - 64 years'], ['18-29 years', '30-49 years', '50-64 years'])"
   ]
  },
  {
   "cell_type": "code",
   "execution_count": 8,
   "metadata": {},
   "outputs": [
    {
     "data": {
      "text/plain": [
       "array(['18-29 years', '30-49 years', '50-64 years'], dtype=object)"
      ]
     },
     "execution_count": 8,
     "metadata": {},
     "output_type": "execute_result"
    }
   ],
   "source": [
    "df3['Age'].unique()"
   ]
  },
  {
   "cell_type": "code",
   "execution_count": 9,
   "metadata": {},
   "outputs": [
    {
     "data": {
      "text/plain": [
       "array(['18 - 29 years', '30 - 49 years', '50 - 64 years', '18-29 years',\n",
       "       '30-49 years', '50-64 years'], dtype=object)"
      ]
     },
     "execution_count": 9,
     "metadata": {},
     "output_type": "execute_result"
    }
   ],
   "source": [
    "df2['Age'].unique()"
   ]
  },
  {
   "cell_type": "code",
   "execution_count": 10,
   "metadata": {},
   "outputs": [],
   "source": [
    "df2['Age'] = df2['Age'].replace(['18 - 29 years', '30 - 49 years', '50 - 64 years'], ['18-29 years', '30-49 years', '50-64 years'])"
   ]
  },
  {
   "cell_type": "code",
   "execution_count": 11,
   "metadata": {},
   "outputs": [
    {
     "data": {
      "text/plain": [
       "array(['18-29 years', '30-49 years', '50-64 years'], dtype=object)"
      ]
     },
     "execution_count": 11,
     "metadata": {},
     "output_type": "execute_result"
    }
   ],
   "source": [
    "df2['Age'].unique()"
   ]
  },
  {
   "cell_type": "code",
   "execution_count": 12,
   "metadata": {},
   "outputs": [],
   "source": [
    "%matplotlib inline"
   ]
  },
  {
   "cell_type": "code",
   "execution_count": 13,
   "metadata": {},
   "outputs": [],
   "source": [
    "import matplotlib"
   ]
  },
  {
   "cell_type": "code",
   "execution_count": 14,
   "metadata": {},
   "outputs": [],
   "source": [
    "matplotlib.style.use('ggplot')"
   ]
  },
  {
   "cell_type": "code",
   "execution_count": 15,
   "metadata": {},
   "outputs": [
    {
     "data": {
      "text/plain": [
       "Index(['Company', 'Age', 'Share of respondents', 'Year', 'Country'], dtype='object')"
      ]
     },
     "execution_count": 15,
     "metadata": {},
     "output_type": "execute_result"
    }
   ],
   "source": [
    "df2.columns"
   ]
  },
  {
   "cell_type": "markdown",
   "metadata": {},
   "source": [
    "<h3><b>Visualize the data"
   ]
  },
  {
   "cell_type": "code",
   "execution_count": 16,
   "metadata": {},
   "outputs": [
    {
     "data": {
      "text/plain": [
       "<matplotlib.axes._subplots.AxesSubplot at 0x11366bd68>"
      ]
     },
     "execution_count": 16,
     "metadata": {},
     "output_type": "execute_result"
    },
    {
     "data": {
      "image/png": "[encoded data removed]",
      "text/plain": [
       "<Figure size 432x288 with 1 Axes>"
      ]
     },
     "metadata": {},
     "output_type": "display_data"
    }
   ],
   "source": [
    "df2['Share of respondents'].plot.hist()"
   ]
  },
  {
   "cell_type": "code",
   "execution_count": 17,
   "metadata": {},
   "outputs": [
    {
     "data": {
      "text/plain": [
       "<matplotlib.axes._subplots.AxesSubplot at 0x1146e9208>"
      ]
     },
     "execution_count": 17,
     "metadata": {},
     "output_type": "execute_result"
    },
    {
     "data": {
      "image/png": "[encoded data removed]",
      "text/plain": [
       "<Figure size 432x288 with 1 Axes>"
      ]
     },
     "metadata": {},
     "output_type": "display_data"
    }
   ],
   "source": [
    "df3['Share of respondents'].plot.hist()"
   ]
  },
  {
   "cell_type": "code",
   "execution_count": 18,
   "metadata": {},
   "outputs": [],
   "source": [
    "s = df2['Age']"
   ]
  },
  {
   "cell_type": "code",
   "execution_count": 19,
   "metadata": {},
   "outputs": [],
   "source": [
    "classmap = {}\n",
    "for idx, name in enumerate(df2['Age'].unique()):\n",
    "    classmap[name] = float(idx)\n",
    "df2['Label'] = df2['Age'].apply(lambda x: classmap[x])"
   ]
  },
  {
   "cell_type": "code",
   "execution_count": 20,
   "metadata": {},
   "outputs": [],
   "source": [
    "df2['Age'] = df2['Age'].map(lambda x: x.lstrip('+-').rstrip('years'))"
   ]
  },
  {
   "cell_type": "code",
   "execution_count": 21,
   "metadata": {},
   "outputs": [],
   "source": [
    "df2['Age'].replace(regex=True,inplace=True,to_replace=r'\\D',value=r'')"
   ]
  },
  {
   "cell_type": "code",
   "execution_count": 25,
   "metadata": {},
   "outputs": [
    {
     "data": {
      "text/plain": [
       "Company                  object\n",
       "Age                      object\n",
       "Share of respondents    float64\n",
       "Year                      int64\n",
       "Country                  object\n",
       "Label                   float64\n",
       "dtype: object"
      ]
     },
     "execution_count": 25,
     "metadata": {},
     "output_type": "execute_result"
    }
   ],
   "source": [
    "df2.dtypes"
   ]
  },
  {
   "cell_type": "code",
   "execution_count": 28,
   "metadata": {},
   "outputs": [],
   "source": [
    "df2['Age'] = df2['Age'].apply(pd.to_numeric, errors='coerce')"
   ]
  },
  {
   "cell_type": "code",
   "execution_count": 29,
   "metadata": {},
   "outputs": [
    {
     "data": {
      "text/plain": [
       "<matplotlib.axes._subplots.AxesSubplot at 0x114c1c6a0>"
      ]
     },
     "execution_count": 29,
     "metadata": {},
     "output_type": "execute_result"
    },
    {
     "data": {
      "image/png": "[encoded data removed]",
      "text/plain": [
       "<Figure size 432x288 with 1 Axes>"
      ]
     },
     "metadata": {},
     "output_type": "display_data"
    }
   ],
   "source": [
    "df2.plot.scatter(x = 'Age', y = 'Share of respondents')"
   ]
  },
  {
   "cell_type": "code",
   "execution_count": 30,
   "metadata": {},
   "outputs": [],
   "source": [
    "df3['Age'] = df3['Age'].map(lambda x: x.lstrip('+-').rstrip('years'))"
   ]
  },
  {
   "cell_type": "code",
   "execution_count": 31,
   "metadata": {},
   "outputs": [],
   "source": [
    "df3['Age'].replace(regex=True,inplace=True,to_replace=r'\\D',value=r'')"
   ]
  },
  {
   "cell_type": "code",
   "execution_count": 32,
   "metadata": {},
   "outputs": [],
   "source": [
    "df3['Age'] = df3['Age'].apply(pd.to_numeric, errors='coerce')"
   ]
  },
  {
   "cell_type": "code",
   "execution_count": 33,
   "metadata": {},
   "outputs": [
    {
     "data": {
      "text/plain": [
       "<matplotlib.axes._subplots.AxesSubplot at 0x114c7e390>"
      ]
     },
     "execution_count": 33,
     "metadata": {},
     "output_type": "execute_result"
    },
    {
     "data": {
      "image/png": "[encoded data removed]",
      "text/plain": [
       "<Figure size 432x288 with 1 Axes>"
      ]
     },
     "metadata": {},
     "output_type": "display_data"
    }
   ],
   "source": [
    "df3.plot.scatter(x = 'Age', y = 'Share of respondents')"
   ]
  },
  {
   "cell_type": "code",
   "execution_count": 39,
   "metadata": {},
   "outputs": [
    {
     "data": {
      "text/plain": [
       "Index(['Unnamed: 0', 'Column1', 'Unnamed: 2'], dtype='object')"
      ]
     },
     "execution_count": 39,
     "metadata": {},
     "output_type": "execute_result"
    }
   ],
   "source": [
    "df4.columns"
   ]
  },
  {
   "cell_type": "code",
   "execution_count": 41,
   "metadata": {
    "scrolled": true
   },
   "outputs": [
    {
     "data": {
      "text/plain": [
       "<matplotlib.axes._subplots.AxesSubplot at 0x114fbd8d0>"
      ]
     },
     "execution_count": 41,
     "metadata": {},
     "output_type": "execute_result"
    },
    {
     "data": {
      "image/png": "[encoded data removed]",
      "text/plain": [
       "<Figure size 432x288 with 1 Axes>"
      ]
     },
     "metadata": {},
     "output_type": "display_data"
    }
   ],
   "source": [
    "df4['Column1'].plot.hist()"
   ]
  },
  {
   "cell_type": "code",
   "execution_count": 42,
   "metadata": {},
   "outputs": [
    {
     "ename": "FileNotFoundError",
     "evalue": "[Errno 2] File b'/Users/prajnabhandary/Desktop/restaurants_list/datafiniti_fast_food_restaurants.csv' does not exist: b'/Users/prajnabhandary/Desktop/restaurants_list/datafiniti_fast_food_restaurants.csv'",
     "output_type": "error",
     "traceback": [
      "\u001b[0;31m---------------------------------------------------------------------------\u001b[0m",
      "\u001b[0;31mFileNotFoundError\u001b[0m                         Traceback (most recent call last)",
      "\u001b[0;32m<ipython-input-42-a75e944d6e88>\u001b[0m in \u001b[0;36m<module>\u001b[0;34m\u001b[0m\n\u001b[0;32m----> 1\u001b[0;31m \u001b[0mdf5\u001b[0m \u001b[0;34m=\u001b[0m \u001b[0mpd\u001b[0m\u001b[0;34m.\u001b[0m\u001b[0mread_csv\u001b[0m\u001b[0;34m(\u001b[0m\u001b[0;34m\"/Users/prajnabhandary/Desktop/restaurants_list/datafiniti_fast_food_restaurants.csv\"\u001b[0m\u001b[0;34m)\u001b[0m\u001b[0;34m\u001b[0m\u001b[0;34m\u001b[0m\u001b[0m\n\u001b[0m",
      "\u001b[0;32m/Applications/anaconda3/lib/python3.7/site-packages/pandas/io/parsers.py\u001b[0m in \u001b[0;36mparser_f\u001b[0;34m(filepath_or_buffer, sep, delimiter, header, names, index_col, usecols, squeeze, prefix, mangle_dupe_cols, dtype, engine, converters, true_values, false_values, skipinitialspace, skiprows, skipfooter, nrows, na_values, keep_default_na, na_filter, verbose, skip_blank_lines, parse_dates, infer_datetime_format, keep_date_col, date_parser, dayfirst, iterator, chunksize, compression, thousands, decimal, lineterminator, quotechar, quoting, doublequote, escapechar, comment, encoding, dialect, tupleize_cols, error_bad_lines, warn_bad_lines, delim_whitespace, low_memory, memory_map, float_precision)\u001b[0m\n\u001b[1;32m    700\u001b[0m                     skip_blank_lines=skip_blank_lines)\n\u001b[1;32m    701\u001b[0m \u001b[0;34m\u001b[0m\u001b[0m\n\u001b[0;32m--> 702\u001b[0;31m         \u001b[0;32mreturn\u001b[0m \u001b[0m_read\u001b[0m\u001b[0;34m(\u001b[0m\u001b[0mfilepath_or_buffer\u001b[0m\u001b[0;34m,\u001b[0m \u001b[0mkwds\u001b[0m\u001b[0;34m)\u001b[0m\u001b[0;34m\u001b[0m\u001b[0;34m\u001b[0m\u001b[0m\n\u001b[0m\u001b[1;32m    703\u001b[0m \u001b[0;34m\u001b[0m\u001b[0m\n\u001b[1;32m    704\u001b[0m     \u001b[0mparser_f\u001b[0m\u001b[0;34m.\u001b[0m\u001b[0m__name__\u001b[0m \u001b[0;34m=\u001b[0m \u001b[0mname\u001b[0m\u001b[0;34m\u001b[0m\u001b[0;34m\u001b[0m\u001b[0m\n",
      "\u001b[0;32m/Applications/anaconda3/lib/python3.7/site-packages/pandas/io/parsers.py\u001b[0m in \u001b[0;36m_read\u001b[0;34m(filepath_or_buffer, kwds)\u001b[0m\n\u001b[1;32m    427\u001b[0m \u001b[0;34m\u001b[0m\u001b[0m\n\u001b[1;32m    428\u001b[0m     \u001b[0;31m# Create the parser.\u001b[0m\u001b[0;34m\u001b[0m\u001b[0;34m\u001b[0m\u001b[0;34m\u001b[0m\u001b[0m\n\u001b[0;32m--> 429\u001b[0;31m     \u001b[0mparser\u001b[0m \u001b[0;34m=\u001b[0m \u001b[0mTextFileReader\u001b[0m\u001b[0;34m(\u001b[0m\u001b[0mfilepath_or_buffer\u001b[0m\u001b[0;34m,\u001b[0m \u001b[0;34m**\u001b[0m\u001b[0mkwds\u001b[0m\u001b[0;34m)\u001b[0m\u001b[0;34m\u001b[0m\u001b[0;34m\u001b[0m\u001b[0m\n\u001b[0m\u001b[1;32m    430\u001b[0m \u001b[0;34m\u001b[0m\u001b[0m\n\u001b[1;32m    431\u001b[0m     \u001b[0;32mif\u001b[0m \u001b[0mchunksize\u001b[0m \u001b[0;32mor\u001b[0m \u001b[0miterator\u001b[0m\u001b[0;34m:\u001b[0m\u001b[0;34m\u001b[0m\u001b[0;34m\u001b[0m\u001b[0m\n",
      "\u001b[0;32m/Applications/anaconda3/lib/python3.7/site-packages/pandas/io/parsers.py\u001b[0m in \u001b[0;36m__init__\u001b[0;34m(self, f, engine, **kwds)\u001b[0m\n\u001b[1;32m    893\u001b[0m             \u001b[0mself\u001b[0m\u001b[0;34m.\u001b[0m\u001b[0moptions\u001b[0m\u001b[0;34m[\u001b[0m\u001b[0;34m'has_index_names'\u001b[0m\u001b[0;34m]\u001b[0m \u001b[0;34m=\u001b[0m \u001b[0mkwds\u001b[0m\u001b[0;34m[\u001b[0m\u001b[0;34m'has_index_names'\u001b[0m\u001b[0;34m]\u001b[0m\u001b[0;34m\u001b[0m\u001b[0;34m\u001b[0m\u001b[0m\n\u001b[1;32m    894\u001b[0m \u001b[0;34m\u001b[0m\u001b[0m\n\u001b[0;32m--> 895\u001b[0;31m         \u001b[0mself\u001b[0m\u001b[0;34m.\u001b[0m\u001b[0m_make_engine\u001b[0m\u001b[0;34m(\u001b[0m\u001b[0mself\u001b[0m\u001b[0;34m.\u001b[0m\u001b[0mengine\u001b[0m\u001b[0;34m)\u001b[0m\u001b[0;34m\u001b[0m\u001b[0;34m\u001b[0m\u001b[0m\n\u001b[0m\u001b[1;32m    896\u001b[0m \u001b[0;34m\u001b[0m\u001b[0m\n\u001b[1;32m    897\u001b[0m     \u001b[0;32mdef\u001b[0m \u001b[0mclose\u001b[0m\u001b[0;34m(\u001b[0m\u001b[0mself\u001b[0m\u001b[0;34m)\u001b[0m\u001b[0;34m:\u001b[0m\u001b[0;34m\u001b[0m\u001b[0;34m\u001b[0m\u001b[0m\n",
      "\u001b[0;32m/Applications/anaconda3/lib/python3.7/site-packages/pandas/io/parsers.py\u001b[0m in \u001b[0;36m_make_engine\u001b[0;34m(self, engine)\u001b[0m\n\u001b[1;32m   1120\u001b[0m     \u001b[0;32mdef\u001b[0m \u001b[0m_make_engine\u001b[0m\u001b[0;34m(\u001b[0m\u001b[0mself\u001b[0m\u001b[0;34m,\u001b[0m \u001b[0mengine\u001b[0m\u001b[0;34m=\u001b[0m\u001b[0;34m'c'\u001b[0m\u001b[0;34m)\u001b[0m\u001b[0;34m:\u001b[0m\u001b[0;34m\u001b[0m\u001b[0;34m\u001b[0m\u001b[0m\n\u001b[1;32m   1121\u001b[0m         \u001b[0;32mif\u001b[0m \u001b[0mengine\u001b[0m \u001b[0;34m==\u001b[0m \u001b[0;34m'c'\u001b[0m\u001b[0;34m:\u001b[0m\u001b[0;34m\u001b[0m\u001b[0;34m\u001b[0m\u001b[0m\n\u001b[0;32m-> 1122\u001b[0;31m             \u001b[0mself\u001b[0m\u001b[0;34m.\u001b[0m\u001b[0m_engine\u001b[0m \u001b[0;34m=\u001b[0m \u001b[0mCParserWrapper\u001b[0m\u001b[0;34m(\u001b[0m\u001b[0mself\u001b[0m\u001b[0;34m.\u001b[0m\u001b[0mf\u001b[0m\u001b[0;34m,\u001b[0m \u001b[0;34m**\u001b[0m\u001b[0mself\u001b[0m\u001b[0;34m.\u001b[0m\u001b[0moptions\u001b[0m\u001b[0;34m)\u001b[0m\u001b[0;34m\u001b[0m\u001b[0;34m\u001b[0m\u001b[0m\n\u001b[0m\u001b[1;32m   1123\u001b[0m         \u001b[0;32melse\u001b[0m\u001b[0;34m:\u001b[0m\u001b[0;34m\u001b[0m\u001b[0;34m\u001b[0m\u001b[0m\n\u001b[1;32m   1124\u001b[0m             \u001b[0;32mif\u001b[0m \u001b[0mengine\u001b[0m \u001b[0;34m==\u001b[0m \u001b[0;34m'python'\u001b[0m\u001b[0;34m:\u001b[0m\u001b[0;34m\u001b[0m\u001b[0;34m\u001b[0m\u001b[0m\n",
      "\u001b[0;32m/Applications/anaconda3/lib/python3.7/site-packages/pandas/io/parsers.py\u001b[0m in \u001b[0;36m__init__\u001b[0;34m(self, src, **kwds)\u001b[0m\n\u001b[1;32m   1851\u001b[0m         \u001b[0mkwds\u001b[0m\u001b[0;34m[\u001b[0m\u001b[0;34m'usecols'\u001b[0m\u001b[0;34m]\u001b[0m \u001b[0;34m=\u001b[0m \u001b[0mself\u001b[0m\u001b[0;34m.\u001b[0m\u001b[0musecols\u001b[0m\u001b[0;34m\u001b[0m\u001b[0;34m\u001b[0m\u001b[0m\n\u001b[1;32m   1852\u001b[0m \u001b[0;34m\u001b[0m\u001b[0m\n\u001b[0;32m-> 1853\u001b[0;31m         \u001b[0mself\u001b[0m\u001b[0;34m.\u001b[0m\u001b[0m_reader\u001b[0m \u001b[0;34m=\u001b[0m \u001b[0mparsers\u001b[0m\u001b[0;34m.\u001b[0m\u001b[0mTextReader\u001b[0m\u001b[0;34m(\u001b[0m\u001b[0msrc\u001b[0m\u001b[0;34m,\u001b[0m \u001b[0;34m**\u001b[0m\u001b[0mkwds\u001b[0m\u001b[0;34m)\u001b[0m\u001b[0;34m\u001b[0m\u001b[0;34m\u001b[0m\u001b[0m\n\u001b[0m\u001b[1;32m   1854\u001b[0m         \u001b[0mself\u001b[0m\u001b[0;34m.\u001b[0m\u001b[0munnamed_cols\u001b[0m \u001b[0;34m=\u001b[0m \u001b[0mself\u001b[0m\u001b[0;34m.\u001b[0m\u001b[0m_reader\u001b[0m\u001b[0;34m.\u001b[0m\u001b[0munnamed_cols\u001b[0m\u001b[0;34m\u001b[0m\u001b[0;34m\u001b[0m\u001b[0m\n\u001b[1;32m   1855\u001b[0m \u001b[0;34m\u001b[0m\u001b[0m\n",
      "\u001b[0;32mpandas/_libs/parsers.pyx\u001b[0m in \u001b[0;36mpandas._libs.parsers.TextReader.__cinit__\u001b[0;34m()\u001b[0m\n",
      "\u001b[0;32mpandas/_libs/parsers.pyx\u001b[0m in \u001b[0;36mpandas._libs.parsers.TextReader._setup_parser_source\u001b[0;34m()\u001b[0m\n",
      "\u001b[0;31mFileNotFoundError\u001b[0m: [Errno 2] File b'/Users/prajnabhandary/Desktop/restaurants_list/datafiniti_fast_food_restaurants.csv' does not exist: b'/Users/prajnabhandary/Desktop/restaurants_list/datafiniti_fast_food_restaurants.csv'"
     ]
    }
   ],
   "source": [
    "df5 = pd.read_csv(\"/Users/prajnabhandary/Desktop/restaurants_list/datafiniti_fast_food_restaurants.csv\")"
   ]
  },
  {
   "cell_type": "code",
   "execution_count": null,
   "metadata": {},
   "outputs": [],
   "source": []
  }
 ],
 "metadata": {
  "kernelspec": {
   "display_name": "Python 3",
   "language": "python",
   "name": "python3"
  },
  "language_info": {
   "codemirror_mode": {
    "name": "ipython",
    "version": 3
   },
   "file_extension": ".py",
   "mimetype": "text/x-python",
   "name": "python",
   "nbconvert_exporter": "python",
   "pygments_lexer": "ipython3",
   "version": "3.7.3"
  }
 },
 "nbformat": 4,
 "nbformat_minor": 2
}
