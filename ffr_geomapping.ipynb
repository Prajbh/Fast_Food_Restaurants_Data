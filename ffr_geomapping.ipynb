{
 "cells": [
  {
   "cell_type": "markdown",
   "metadata": {},
   "source": [
    "## Geomapping"
   ]
  },
  {
   "cell_type": "code",
   "execution_count": 1,
   "metadata": {},
   "outputs": [
    {
     "name": "stdout",
     "output_type": "stream",
     "text": [
      "Requirement already satisfied: googlemaps in /Applications/anaconda3/lib/python3.7/site-packages (4.1.0)\n",
      "Requirement already satisfied: requests<3.0,>=2.20.0 in /Applications/anaconda3/lib/python3.7/site-packages (from googlemaps) (2.22.0)\n",
      "Requirement already satisfied: idna<2.9,>=2.5 in /Applications/anaconda3/lib/python3.7/site-packages (from requests<3.0,>=2.20.0->googlemaps) (2.8)\n",
      "Requirement already satisfied: urllib3!=1.25.0,!=1.25.1,<1.26,>=1.21.1 in /Applications/anaconda3/lib/python3.7/site-packages (from requests<3.0,>=2.20.0->googlemaps) (1.24.2)\n",
      "Requirement already satisfied: certifi>=2017.4.17 in /Applications/anaconda3/lib/python3.7/site-packages (from requests<3.0,>=2.20.0->googlemaps) (2019.11.28)\n",
      "Requirement already satisfied: chardet<3.1.0,>=3.0.2 in /Applications/anaconda3/lib/python3.7/site-packages (from requests<3.0,>=2.20.0->googlemaps) (3.0.4)\n",
      "Note: you may need to restart the kernel to use updated packages.\n"
     ]
    }
   ],
   "source": []
  },
  {
   "cell_type": "code",
   "execution_count": 3,
   "metadata": {},
   "outputs": [],
   "source": [
    "import geopandas as gpd\n",
    "from shapely.geometry import Point\n",
    "\n",
    "%matplotlib inline"
   ]
  },
  {
   "cell_type": "code",
   "execution_count": 2,
   "metadata": {},
   "outputs": [],
   "source": [
    "import pandas as pd\n",
    "import gmplot\n",
    "import geopy\n",
    "import googlemaps\n",
    "from datetime import datetime\n",
    "import seaborn as sns"
   ]
  },
  {
   "cell_type": "code",
   "execution_count": null,
   "metadata": {},
   "outputs": [],
   "source": [
    "df = pd.read_csv('FastFoodRestaurants.csv')\n",
    "df6 = pd.read_csv(\"datafiniti_fast_food_restaurants_jun19.csv\")\n",
    "df5 = pd.read_csv(\"datafiniti_fast_food_restaurants.csv\")"
   ]
  },
  {
   "cell_type": "code",
   "execution_count": null,
   "metadata": {},
   "outputs": [],
   "source": [
    "df = df[df['province'] == 'MD']"
   ]
  },
  {
   "cell_type": "code",
   "execution_count": null,
   "metadata": {},
   "outputs": [],
   "source": [
    "df"
   ]
  },
  {
   "cell_type": "code",
   "execution_count": null,
   "metadata": {},
   "outputs": [],
   "source": [
    "gmap = gmplot.GoogleMapPlotter(39.045753, -76.641273, 13)\n",
    "# google API key needs to be inserted here. \n",
    "gmap.apikey='' \n",
    "gmap.draw(\"md.html\")"
   ]
  },
  {
   "cell_type": "code",
   "execution_count": null,
   "metadata": {},
   "outputs": [],
   "source": [
    "lati = []\n",
    "lngi = []\n",
    "gmap = gmplot.GoogleMapPlotter(39.045753, -76.641273, 13)\n",
    "# google API key needs to be inserted here.\n",
    "gmap.apikey=''\n",
    "# google API key needs to be inserted here.\n",
    "gmaps = googlemaps.Client(key='')\n",
    "for x in df['address']:\n",
    "    geocode_result = gmaps.geocode(x)\n",
    "    try:\n",
    "        geom = geocode_result[0]['geometry']\n",
    "        loc = geom['location']\n",
    "        lat = loc['lat']\n",
    "        lati.append(lat)\n",
    "        lng = loc['lng']\n",
    "        lngi.append(lng)\n",
    "        gmap.scatter(lati, lngi, '#3B0B39', size=100, marker=False)\n",
    "        gmap.draw(\"md.html\")\n",
    "    except IndexError:\n",
    "        print('')"
   ]
  },
  {
   "cell_type": "code",
   "execution_count": null,
   "metadata": {},
   "outputs": [],
   "source": [
    "from IPython.display import HTML\n",
    "HTML(filename='md.html')"
   ]
  },
  {
   "cell_type": "code",
   "execution_count": null,
   "metadata": {},
   "outputs": [],
   "source": [
    "df6 = df6[df6['province'] == 'MD']"
   ]
  },
  {
   "cell_type": "code",
   "execution_count": null,
   "metadata": {},
   "outputs": [],
   "source": [
    "df5 = df5[df5['province'] == 'MD']"
   ]
  },
  {
   "cell_type": "code",
   "execution_count": null,
   "metadata": {},
   "outputs": [],
   "source": [
    "df6"
   ]
  },
  {
   "cell_type": "code",
   "execution_count": null,
   "metadata": {},
   "outputs": [],
   "source": [
    "df5"
   ]
  },
  {
   "cell_type": "markdown",
   "metadata": {},
   "source": [
    "### The above dataset we have one dataset that has been updated in 2019 and one that was updated before 2019 as we can see in date updated column. We are trying to plot the difference between the number of restaurants in an area in these two cases. Are there any new restaurants opened or any restaurants closed. Due to the length of the data that originally contained the whole US dataset we are considering the restaurants pertaining to Maryland state only."
   ]
  },
  {
   "cell_type": "code",
   "execution_count": null,
   "metadata": {},
   "outputs": [],
   "source": [
    "lati = []\n",
    "lngi = []\n",
    "gmap = gmplot.GoogleMapPlotter(39.045753, -76.641273, 13)\n",
    "# google API key needs to be inserted here.\n",
    "gmap.apikey=''\n",
    "# google API key needs to be inserted here.\n",
    "gmaps = googlemaps.Client(key='')\n",
    "for x in df5['address']:\n",
    "    geocode_result = gmaps.geocode(x)\n",
    "    try:\n",
    "        geom = geocode_result[0]['geometry']\n",
    "        loc = geom['location']\n",
    "        lat = loc['lat']\n",
    "        lati.append(lat)\n",
    "        lng = loc['lng']\n",
    "        lngi.append(lng)\n",
    "        gmap.scatter(lati, lngi, '#FF0000', size=100, marker=False)\n",
    "        gmap.draw('mds.html')\n",
    "    except IndexError:\n",
    "        print('')\n",
    "for x in df6['address']:\n",
    "    geocode_result = gmaps.geocode(x)\n",
    "    try:\n",
    "        geom = geocode_result[0]['geometry']\n",
    "        loc = geom['location']\n",
    "        lat = loc['lat']\n",
    "        lati.append(lat)\n",
    "        lng = loc['lng']\n",
    "        lngi.append(lng)\n",
    "        gmap.scatter(lati, lngi, '#00FF00', size=100, marker=False)\n",
    "        gmap.draw('mds.html')\n",
    "    except IndexError:\n",
    "        print('')"
   ]
  },
  {
   "cell_type": "code",
   "execution_count": null,
   "metadata": {},
   "outputs": [],
   "source": [
    "from IPython.display import HTML\n",
    "HTML(filename='mds.html')"
   ]
  },
  {
   "cell_type": "markdown",
   "metadata": {},
   "source": [
    "### Using Geopandas\n",
    "##### To get clearer view of restaurants  in a small space, we are using geopanda."
   ]
  },
  {
   "cell_type": "code",
   "execution_count": null,
   "metadata": {},
   "outputs": [],
   "source": [
    "import geopandas as gpd"
   ]
  },
  {
   "cell_type": "code",
   "execution_count": null,
   "metadata": {},
   "outputs": [],
   "source": [
    "df2 = df.drop(['websites', 'keys'], axis =1)"
   ]
  },
  {
   "cell_type": "code",
   "execution_count": null,
   "metadata": {},
   "outputs": [],
   "source": [
    "df2"
   ]
  },
  {
   "cell_type": "code",
   "execution_count": null,
   "metadata": {},
   "outputs": [],
   "source": [
    "points = df2.apply(lambda row: Point(row.longitude, row.latitude), axis=1)\n",
    "restaurants = gpd.GeoDataFrame(df, geometry=points)\n",
    "restaurants.crs = {'init': 'epsg:4326'}"
   ]
  },
  {
   "cell_type": "code",
   "execution_count": null,
   "metadata": {},
   "outputs": [],
   "source": [
    "plot5 = restaurants.plot(figsize=(20,5))"
   ]
  },
  {
   "cell_type": "code",
   "execution_count": null,
   "metadata": {},
   "outputs": [],
   "source": [
    "gep = gpd.read_file(\"Maryland_Baltimore_City_Neighborhoods.shp\")"
   ]
  },
  {
   "cell_type": "code",
   "execution_count": null,
   "metadata": {},
   "outputs": [],
   "source": [
    "gep.head(5)"
   ]
  },
  {
   "cell_type": "code",
   "execution_count": null,
   "metadata": {},
   "outputs": [],
   "source": [
    "ax = gep.plot(figsize=(10, 10), alpha=0.5, edgecolor='k')"
   ]
  },
  {
   "cell_type": "code",
   "execution_count": null,
   "metadata": {},
   "outputs": [],
   "source": []
  },
  {
   "cell_type": "code",
   "execution_count": null,
   "metadata": {},
   "outputs": [],
   "source": []
  },
  {
   "cell_type": "code",
   "execution_count": null,
   "metadata": {},
   "outputs": [],
   "source": []
  },
  {
   "cell_type": "code",
   "execution_count": null,
   "metadata": {},
   "outputs": [],
   "source": []
  },
  {
   "cell_type": "code",
   "execution_count": null,
   "metadata": {},
   "outputs": [],
   "source": []
  }
 ],
 "metadata": {
  "kernelspec": {
   "display_name": "Python 3",
   "language": "python",
   "name": "python3"
  },
  "language_info": {
   "codemirror_mode": {
    "name": "ipython",
    "version": 3
   },
   "file_extension": ".py",
   "mimetype": "text/x-python",
   "name": "python",
   "nbconvert_exporter": "python",
   "pygments_lexer": "ipython3",
   "version": "3.7.3"
  }
 },
 "nbformat": 4,
 "nbformat_minor": 2
}
